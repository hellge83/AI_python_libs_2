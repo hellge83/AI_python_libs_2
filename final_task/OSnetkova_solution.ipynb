{
 "cells": [
  {
   "cell_type": "code",
   "execution_count": 1,
   "metadata": {},
   "outputs": [],
   "source": [
    "import numpy as np\n",
    "import pandas as pd\n",
    "from scipy import stats\n",
    "import seaborn as sns\n",
    "from matplotlib import pyplot as plt\n",
    "%matplotlib inline\n",
    "from sklearn.experimental import enable_iterative_imputer  \n",
    "from sklearn.impute import IterativeImputer"
   ]
  },
  {
   "cell_type": "code",
   "execution_count": 2,
   "metadata": {},
   "outputs": [],
   "source": [
    "from sklearn.preprocessing import StandardScaler\n",
    "from sklearn.model_selection import train_test_split, ShuffleSplit, cross_val_score, learning_curve\n",
    "from sklearn.model_selection import RepeatedStratifiedKFold, GridSearchCV, RandomizedSearchCV\n",
    "from sklearn.metrics import classification_report, f1_score, precision_score, recall_score\n",
    "\n",
    "from sklearn.linear_model import LogisticRegression\n",
    "from sklearn.ensemble import RandomForestClassifier\n",
    "import xgboost as xgb\n",
    "import lightgbm as lgbm\n",
    "import catboost as catb"
   ]
  },
  {
   "cell_type": "markdown",
   "metadata": {},
   "source": [
    "#### Пути к файлам"
   ]
  },
  {
   "cell_type": "code",
   "execution_count": 3,
   "metadata": {},
   "outputs": [],
   "source": [
    "INPUT_TRAIN_PATH = 'D:/GeekBrains/ds_python_libs2/final/course_project_train.csv'\n",
    "INPUT_TEST_PATH = 'D:/GeekBrains/ds_python_libs2/final/course_project_test.csv'\n",
    "OUTPUTH_PATH = 'D:/GeekBrains/ds_python_libs2/final/OSnetkova_predictions_v2.csv'"
   ]
  },
  {
   "cell_type": "markdown",
   "metadata": {},
   "source": [
    "**Описание датасета**\n",
    "\n",
    "* **Home Ownership** - домовладение\n",
    "* **Annual Income** - годовой доход\n",
    "* **Years in current job** - количество лет на текущем месте работы\n",
    "* **Tax Liens** - налоговые льготы\n",
    "* **Number of Open Accounts** - количество открытых счетов\n",
    "* **Years of Credit History** - количество лет кредитной истории\n",
    "* **Maximum Open Credit** - наибольший открытый кредит\n",
    "* **Number of Credit Problems** - количество проблем с кредитом\n",
    "* **Months since last delinquent** - количество месяцев с последней просрочки платежа\n",
    "* **Bankruptcies** - банкротства\n",
    "* **Purpose** - цель кредита\n",
    "* **Term** - срок кредита\n",
    "* **Current Loan Amount** - текущая сумма кредита\n",
    "* **Current Credit Balance** - текущий кредитный баланс\n",
    "* **Monthly Debt** - ежемесячный долг\n",
    "* **Credit Default** - факт невыполнения кредитных обязательств (0 - погашен вовремя, 1 - просрочка)"
   ]
  },
  {
   "cell_type": "markdown",
   "metadata": {},
   "source": [
    "#### Загрузка данных"
   ]
  },
  {
   "cell_type": "code",
   "execution_count": 4,
   "metadata": {},
   "outputs": [
    {
     "data": {
      "text/html": [
       "<div>\n",
       "<style scoped>\n",
       "    .dataframe tbody tr th:only-of-type {\n",
       "        vertical-align: middle;\n",
       "    }\n",
       "\n",
       "    .dataframe tbody tr th {\n",
       "        vertical-align: top;\n",
       "    }\n",
       "\n",
       "    .dataframe thead th {\n",
       "        text-align: right;\n",
       "    }\n",
       "</style>\n",
       "<table border=\"1\" class=\"dataframe\">\n",
       "  <thead>\n",
       "    <tr style=\"text-align: right;\">\n",
       "      <th></th>\n",
       "      <th>Home Ownership</th>\n",
       "      <th>Annual Income</th>\n",
       "      <th>Years in current job</th>\n",
       "      <th>Tax Liens</th>\n",
       "      <th>Number of Open Accounts</th>\n",
       "      <th>Years of Credit History</th>\n",
       "      <th>Maximum Open Credit</th>\n",
       "      <th>Number of Credit Problems</th>\n",
       "      <th>Months since last delinquent</th>\n",
       "      <th>Bankruptcies</th>\n",
       "      <th>Purpose</th>\n",
       "      <th>Term</th>\n",
       "      <th>Current Loan Amount</th>\n",
       "      <th>Current Credit Balance</th>\n",
       "      <th>Monthly Debt</th>\n",
       "      <th>Credit Score</th>\n",
       "      <th>Credit Default</th>\n",
       "    </tr>\n",
       "  </thead>\n",
       "  <tbody>\n",
       "    <tr>\n",
       "      <th>0</th>\n",
       "      <td>Own Home</td>\n",
       "      <td>482087.0</td>\n",
       "      <td>NaN</td>\n",
       "      <td>0.0</td>\n",
       "      <td>11.0</td>\n",
       "      <td>26.3</td>\n",
       "      <td>685960.0</td>\n",
       "      <td>1.0</td>\n",
       "      <td>NaN</td>\n",
       "      <td>1.0</td>\n",
       "      <td>debt consolidation</td>\n",
       "      <td>Short Term</td>\n",
       "      <td>99999999.0</td>\n",
       "      <td>47386.0</td>\n",
       "      <td>7914.0</td>\n",
       "      <td>749.0</td>\n",
       "      <td>0</td>\n",
       "    </tr>\n",
       "    <tr>\n",
       "      <th>1</th>\n",
       "      <td>Own Home</td>\n",
       "      <td>1025487.0</td>\n",
       "      <td>10+ years</td>\n",
       "      <td>0.0</td>\n",
       "      <td>15.0</td>\n",
       "      <td>15.3</td>\n",
       "      <td>1181730.0</td>\n",
       "      <td>0.0</td>\n",
       "      <td>NaN</td>\n",
       "      <td>0.0</td>\n",
       "      <td>debt consolidation</td>\n",
       "      <td>Long Term</td>\n",
       "      <td>264968.0</td>\n",
       "      <td>394972.0</td>\n",
       "      <td>18373.0</td>\n",
       "      <td>737.0</td>\n",
       "      <td>1</td>\n",
       "    </tr>\n",
       "    <tr>\n",
       "      <th>2</th>\n",
       "      <td>Home Mortgage</td>\n",
       "      <td>751412.0</td>\n",
       "      <td>8 years</td>\n",
       "      <td>0.0</td>\n",
       "      <td>11.0</td>\n",
       "      <td>35.0</td>\n",
       "      <td>1182434.0</td>\n",
       "      <td>0.0</td>\n",
       "      <td>NaN</td>\n",
       "      <td>0.0</td>\n",
       "      <td>debt consolidation</td>\n",
       "      <td>Short Term</td>\n",
       "      <td>99999999.0</td>\n",
       "      <td>308389.0</td>\n",
       "      <td>13651.0</td>\n",
       "      <td>742.0</td>\n",
       "      <td>0</td>\n",
       "    </tr>\n",
       "    <tr>\n",
       "      <th>3</th>\n",
       "      <td>Own Home</td>\n",
       "      <td>805068.0</td>\n",
       "      <td>6 years</td>\n",
       "      <td>0.0</td>\n",
       "      <td>8.0</td>\n",
       "      <td>22.5</td>\n",
       "      <td>147400.0</td>\n",
       "      <td>1.0</td>\n",
       "      <td>NaN</td>\n",
       "      <td>1.0</td>\n",
       "      <td>debt consolidation</td>\n",
       "      <td>Short Term</td>\n",
       "      <td>121396.0</td>\n",
       "      <td>95855.0</td>\n",
       "      <td>11338.0</td>\n",
       "      <td>694.0</td>\n",
       "      <td>0</td>\n",
       "    </tr>\n",
       "    <tr>\n",
       "      <th>4</th>\n",
       "      <td>Rent</td>\n",
       "      <td>776264.0</td>\n",
       "      <td>8 years</td>\n",
       "      <td>0.0</td>\n",
       "      <td>13.0</td>\n",
       "      <td>13.6</td>\n",
       "      <td>385836.0</td>\n",
       "      <td>1.0</td>\n",
       "      <td>NaN</td>\n",
       "      <td>0.0</td>\n",
       "      <td>debt consolidation</td>\n",
       "      <td>Short Term</td>\n",
       "      <td>125840.0</td>\n",
       "      <td>93309.0</td>\n",
       "      <td>7180.0</td>\n",
       "      <td>719.0</td>\n",
       "      <td>0</td>\n",
       "    </tr>\n",
       "  </tbody>\n",
       "</table>\n",
       "</div>"
      ],
      "text/plain": [
       "  Home Ownership  Annual Income Years in current job  Tax Liens  \\\n",
       "0       Own Home       482087.0                  NaN        0.0   \n",
       "1       Own Home      1025487.0            10+ years        0.0   \n",
       "2  Home Mortgage       751412.0              8 years        0.0   \n",
       "3       Own Home       805068.0              6 years        0.0   \n",
       "4           Rent       776264.0              8 years        0.0   \n",
       "\n",
       "   Number of Open Accounts  Years of Credit History  Maximum Open Credit  \\\n",
       "0                     11.0                     26.3             685960.0   \n",
       "1                     15.0                     15.3            1181730.0   \n",
       "2                     11.0                     35.0            1182434.0   \n",
       "3                      8.0                     22.5             147400.0   \n",
       "4                     13.0                     13.6             385836.0   \n",
       "\n",
       "   Number of Credit Problems  Months since last delinquent  Bankruptcies  \\\n",
       "0                        1.0                           NaN           1.0   \n",
       "1                        0.0                           NaN           0.0   \n",
       "2                        0.0                           NaN           0.0   \n",
       "3                        1.0                           NaN           1.0   \n",
       "4                        1.0                           NaN           0.0   \n",
       "\n",
       "              Purpose        Term  Current Loan Amount  \\\n",
       "0  debt consolidation  Short Term           99999999.0   \n",
       "1  debt consolidation   Long Term             264968.0   \n",
       "2  debt consolidation  Short Term           99999999.0   \n",
       "3  debt consolidation  Short Term             121396.0   \n",
       "4  debt consolidation  Short Term             125840.0   \n",
       "\n",
       "   Current Credit Balance  Monthly Debt  Credit Score  Credit Default  \n",
       "0                 47386.0        7914.0         749.0               0  \n",
       "1                394972.0       18373.0         737.0               1  \n",
       "2                308389.0       13651.0         742.0               0  \n",
       "3                 95855.0       11338.0         694.0               0  \n",
       "4                 93309.0        7180.0         719.0               0  "
      ]
     },
     "execution_count": 4,
     "metadata": {},
     "output_type": "execute_result"
    }
   ],
   "source": [
    "df_train = pd.read_csv(INPUT_TRAIN_PATH)\n",
    "df_train.head()"
   ]
  },
  {
   "cell_type": "code",
   "execution_count": 5,
   "metadata": {},
   "outputs": [
    {
     "data": {
      "text/plain": [
       "(7500, 17)"
      ]
     },
     "execution_count": 5,
     "metadata": {},
     "output_type": "execute_result"
    }
   ],
   "source": [
    "df_train.shape"
   ]
  },
  {
   "cell_type": "code",
   "execution_count": 6,
   "metadata": {},
   "outputs": [
    {
     "data": {
      "text/html": [
       "<div>\n",
       "<style scoped>\n",
       "    .dataframe tbody tr th:only-of-type {\n",
       "        vertical-align: middle;\n",
       "    }\n",
       "\n",
       "    .dataframe tbody tr th {\n",
       "        vertical-align: top;\n",
       "    }\n",
       "\n",
       "    .dataframe thead th {\n",
       "        text-align: right;\n",
       "    }\n",
       "</style>\n",
       "<table border=\"1\" class=\"dataframe\">\n",
       "  <thead>\n",
       "    <tr style=\"text-align: right;\">\n",
       "      <th></th>\n",
       "      <th>Home Ownership</th>\n",
       "      <th>Annual Income</th>\n",
       "      <th>Years in current job</th>\n",
       "      <th>Tax Liens</th>\n",
       "      <th>Number of Open Accounts</th>\n",
       "      <th>Years of Credit History</th>\n",
       "      <th>Maximum Open Credit</th>\n",
       "      <th>Number of Credit Problems</th>\n",
       "      <th>Months since last delinquent</th>\n",
       "      <th>Bankruptcies</th>\n",
       "      <th>Purpose</th>\n",
       "      <th>Term</th>\n",
       "      <th>Current Loan Amount</th>\n",
       "      <th>Current Credit Balance</th>\n",
       "      <th>Monthly Debt</th>\n",
       "      <th>Credit Score</th>\n",
       "    </tr>\n",
       "  </thead>\n",
       "  <tbody>\n",
       "    <tr>\n",
       "      <th>0</th>\n",
       "      <td>Rent</td>\n",
       "      <td>NaN</td>\n",
       "      <td>4 years</td>\n",
       "      <td>0.0</td>\n",
       "      <td>9.0</td>\n",
       "      <td>12.5</td>\n",
       "      <td>220968.0</td>\n",
       "      <td>0.0</td>\n",
       "      <td>70.0</td>\n",
       "      <td>0.0</td>\n",
       "      <td>debt consolidation</td>\n",
       "      <td>Short Term</td>\n",
       "      <td>162470.0</td>\n",
       "      <td>105906.0</td>\n",
       "      <td>6813.0</td>\n",
       "      <td>NaN</td>\n",
       "    </tr>\n",
       "    <tr>\n",
       "      <th>1</th>\n",
       "      <td>Rent</td>\n",
       "      <td>231838.0</td>\n",
       "      <td>1 year</td>\n",
       "      <td>0.0</td>\n",
       "      <td>6.0</td>\n",
       "      <td>32.7</td>\n",
       "      <td>55946.0</td>\n",
       "      <td>0.0</td>\n",
       "      <td>8.0</td>\n",
       "      <td>0.0</td>\n",
       "      <td>educational expenses</td>\n",
       "      <td>Short Term</td>\n",
       "      <td>78298.0</td>\n",
       "      <td>46037.0</td>\n",
       "      <td>2318.0</td>\n",
       "      <td>699.0</td>\n",
       "    </tr>\n",
       "    <tr>\n",
       "      <th>2</th>\n",
       "      <td>Home Mortgage</td>\n",
       "      <td>1152540.0</td>\n",
       "      <td>3 years</td>\n",
       "      <td>0.0</td>\n",
       "      <td>10.0</td>\n",
       "      <td>13.7</td>\n",
       "      <td>204600.0</td>\n",
       "      <td>0.0</td>\n",
       "      <td>NaN</td>\n",
       "      <td>0.0</td>\n",
       "      <td>debt consolidation</td>\n",
       "      <td>Short Term</td>\n",
       "      <td>200178.0</td>\n",
       "      <td>146490.0</td>\n",
       "      <td>18729.0</td>\n",
       "      <td>7260.0</td>\n",
       "    </tr>\n",
       "    <tr>\n",
       "      <th>3</th>\n",
       "      <td>Home Mortgage</td>\n",
       "      <td>1220313.0</td>\n",
       "      <td>10+ years</td>\n",
       "      <td>0.0</td>\n",
       "      <td>16.0</td>\n",
       "      <td>17.0</td>\n",
       "      <td>456302.0</td>\n",
       "      <td>0.0</td>\n",
       "      <td>70.0</td>\n",
       "      <td>0.0</td>\n",
       "      <td>debt consolidation</td>\n",
       "      <td>Short Term</td>\n",
       "      <td>217382.0</td>\n",
       "      <td>213199.0</td>\n",
       "      <td>27559.0</td>\n",
       "      <td>739.0</td>\n",
       "    </tr>\n",
       "    <tr>\n",
       "      <th>4</th>\n",
       "      <td>Home Mortgage</td>\n",
       "      <td>2340952.0</td>\n",
       "      <td>6 years</td>\n",
       "      <td>0.0</td>\n",
       "      <td>11.0</td>\n",
       "      <td>23.6</td>\n",
       "      <td>1207272.0</td>\n",
       "      <td>0.0</td>\n",
       "      <td>NaN</td>\n",
       "      <td>0.0</td>\n",
       "      <td>debt consolidation</td>\n",
       "      <td>Long Term</td>\n",
       "      <td>777634.0</td>\n",
       "      <td>425391.0</td>\n",
       "      <td>42605.0</td>\n",
       "      <td>706.0</td>\n",
       "    </tr>\n",
       "  </tbody>\n",
       "</table>\n",
       "</div>"
      ],
      "text/plain": [
       "  Home Ownership  Annual Income Years in current job  Tax Liens  \\\n",
       "0           Rent            NaN              4 years        0.0   \n",
       "1           Rent       231838.0               1 year        0.0   \n",
       "2  Home Mortgage      1152540.0              3 years        0.0   \n",
       "3  Home Mortgage      1220313.0            10+ years        0.0   \n",
       "4  Home Mortgage      2340952.0              6 years        0.0   \n",
       "\n",
       "   Number of Open Accounts  Years of Credit History  Maximum Open Credit  \\\n",
       "0                      9.0                     12.5             220968.0   \n",
       "1                      6.0                     32.7              55946.0   \n",
       "2                     10.0                     13.7             204600.0   \n",
       "3                     16.0                     17.0             456302.0   \n",
       "4                     11.0                     23.6            1207272.0   \n",
       "\n",
       "   Number of Credit Problems  Months since last delinquent  Bankruptcies  \\\n",
       "0                        0.0                          70.0           0.0   \n",
       "1                        0.0                           8.0           0.0   \n",
       "2                        0.0                           NaN           0.0   \n",
       "3                        0.0                          70.0           0.0   \n",
       "4                        0.0                           NaN           0.0   \n",
       "\n",
       "                Purpose        Term  Current Loan Amount  \\\n",
       "0    debt consolidation  Short Term             162470.0   \n",
       "1  educational expenses  Short Term              78298.0   \n",
       "2    debt consolidation  Short Term             200178.0   \n",
       "3    debt consolidation  Short Term             217382.0   \n",
       "4    debt consolidation   Long Term             777634.0   \n",
       "\n",
       "   Current Credit Balance  Monthly Debt  Credit Score  \n",
       "0                105906.0        6813.0           NaN  \n",
       "1                 46037.0        2318.0         699.0  \n",
       "2                146490.0       18729.0        7260.0  \n",
       "3                213199.0       27559.0         739.0  \n",
       "4                425391.0       42605.0         706.0  "
      ]
     },
     "execution_count": 6,
     "metadata": {},
     "output_type": "execute_result"
    }
   ],
   "source": [
    "df_test = pd.read_csv(INPUT_TEST_PATH)\n",
    "df_test.head()"
   ]
  },
  {
   "cell_type": "code",
   "execution_count": 7,
   "metadata": {},
   "outputs": [
    {
     "data": {
      "text/plain": [
       "(2500, 16)"
      ]
     },
     "execution_count": 7,
     "metadata": {},
     "output_type": "execute_result"
    }
   ],
   "source": [
    "df_test.shape"
   ]
  },
  {
   "cell_type": "markdown",
   "metadata": {},
   "source": [
    "# EDA"
   ]
  },
  {
   "cell_type": "code",
   "execution_count": 8,
   "metadata": {},
   "outputs": [
    {
     "data": {
      "text/plain": [
       "0    0.718267\n",
       "1    0.281733\n",
       "Name: Credit Default, dtype: float64"
      ]
     },
     "execution_count": 8,
     "metadata": {},
     "output_type": "execute_result"
    }
   ],
   "source": [
    "df_train['Credit Default'].value_counts(normalize=True)"
   ]
  },
  {
   "cell_type": "code",
   "execution_count": 9,
   "metadata": {},
   "outputs": [
    {
     "name": "stdout",
     "output_type": "stream",
     "text": [
      "<class 'pandas.core.frame.DataFrame'>\n",
      "RangeIndex: 7500 entries, 0 to 7499\n",
      "Data columns (total 17 columns):\n",
      " #   Column                        Non-Null Count  Dtype  \n",
      "---  ------                        --------------  -----  \n",
      " 0   Home Ownership                7500 non-null   object \n",
      " 1   Annual Income                 5943 non-null   float64\n",
      " 2   Years in current job          7129 non-null   object \n",
      " 3   Tax Liens                     7500 non-null   float64\n",
      " 4   Number of Open Accounts       7500 non-null   float64\n",
      " 5   Years of Credit History       7500 non-null   float64\n",
      " 6   Maximum Open Credit           7500 non-null   float64\n",
      " 7   Number of Credit Problems     7500 non-null   float64\n",
      " 8   Months since last delinquent  3419 non-null   float64\n",
      " 9   Bankruptcies                  7486 non-null   float64\n",
      " 10  Purpose                       7500 non-null   object \n",
      " 11  Term                          7500 non-null   object \n",
      " 12  Current Loan Amount           7500 non-null   float64\n",
      " 13  Current Credit Balance        7500 non-null   float64\n",
      " 14  Monthly Debt                  7500 non-null   float64\n",
      " 15  Credit Score                  5943 non-null   float64\n",
      " 16  Credit Default                7500 non-null   int64  \n",
      "dtypes: float64(12), int64(1), object(4)\n",
      "memory usage: 996.2+ KB\n"
     ]
    }
   ],
   "source": [
    "df_train.info()"
   ]
  },
  {
   "cell_type": "code",
   "execution_count": 10,
   "metadata": {},
   "outputs": [
    {
     "data": {
      "text/html": [
       "<div>\n",
       "<style scoped>\n",
       "    .dataframe tbody tr th:only-of-type {\n",
       "        vertical-align: middle;\n",
       "    }\n",
       "\n",
       "    .dataframe tbody tr th {\n",
       "        vertical-align: top;\n",
       "    }\n",
       "\n",
       "    .dataframe thead th {\n",
       "        text-align: right;\n",
       "    }\n",
       "</style>\n",
       "<table border=\"1\" class=\"dataframe\">\n",
       "  <thead>\n",
       "    <tr style=\"text-align: right;\">\n",
       "      <th></th>\n",
       "      <th>Annual Income</th>\n",
       "      <th>Tax Liens</th>\n",
       "      <th>Number of Open Accounts</th>\n",
       "      <th>Years of Credit History</th>\n",
       "      <th>Maximum Open Credit</th>\n",
       "      <th>Number of Credit Problems</th>\n",
       "      <th>Months since last delinquent</th>\n",
       "      <th>Bankruptcies</th>\n",
       "      <th>Current Loan Amount</th>\n",
       "      <th>Current Credit Balance</th>\n",
       "      <th>Monthly Debt</th>\n",
       "      <th>Credit Score</th>\n",
       "      <th>Credit Default</th>\n",
       "    </tr>\n",
       "  </thead>\n",
       "  <tbody>\n",
       "    <tr>\n",
       "      <th>count</th>\n",
       "      <td>5.943000e+03</td>\n",
       "      <td>7500.000000</td>\n",
       "      <td>7500.000000</td>\n",
       "      <td>7500.000000</td>\n",
       "      <td>7.500000e+03</td>\n",
       "      <td>7500.000000</td>\n",
       "      <td>3419.000000</td>\n",
       "      <td>7486.000000</td>\n",
       "      <td>7.500000e+03</td>\n",
       "      <td>7.500000e+03</td>\n",
       "      <td>7500.000000</td>\n",
       "      <td>5943.000000</td>\n",
       "      <td>7500.000000</td>\n",
       "    </tr>\n",
       "    <tr>\n",
       "      <th>mean</th>\n",
       "      <td>1.366392e+06</td>\n",
       "      <td>0.030133</td>\n",
       "      <td>11.130933</td>\n",
       "      <td>18.317467</td>\n",
       "      <td>9.451537e+05</td>\n",
       "      <td>0.170000</td>\n",
       "      <td>34.692600</td>\n",
       "      <td>0.117152</td>\n",
       "      <td>1.187318e+07</td>\n",
       "      <td>2.898332e+05</td>\n",
       "      <td>18314.454133</td>\n",
       "      <td>1151.087498</td>\n",
       "      <td>0.281733</td>\n",
       "    </tr>\n",
       "    <tr>\n",
       "      <th>std</th>\n",
       "      <td>8.453392e+05</td>\n",
       "      <td>0.271604</td>\n",
       "      <td>4.908924</td>\n",
       "      <td>7.041946</td>\n",
       "      <td>1.602622e+07</td>\n",
       "      <td>0.498598</td>\n",
       "      <td>21.688806</td>\n",
       "      <td>0.347192</td>\n",
       "      <td>3.192612e+07</td>\n",
       "      <td>3.178714e+05</td>\n",
       "      <td>11926.764673</td>\n",
       "      <td>1604.451418</td>\n",
       "      <td>0.449874</td>\n",
       "    </tr>\n",
       "    <tr>\n",
       "      <th>min</th>\n",
       "      <td>1.645970e+05</td>\n",
       "      <td>0.000000</td>\n",
       "      <td>2.000000</td>\n",
       "      <td>4.000000</td>\n",
       "      <td>0.000000e+00</td>\n",
       "      <td>0.000000</td>\n",
       "      <td>0.000000</td>\n",
       "      <td>0.000000</td>\n",
       "      <td>1.124200e+04</td>\n",
       "      <td>0.000000e+00</td>\n",
       "      <td>0.000000</td>\n",
       "      <td>585.000000</td>\n",
       "      <td>0.000000</td>\n",
       "    </tr>\n",
       "    <tr>\n",
       "      <th>25%</th>\n",
       "      <td>8.443410e+05</td>\n",
       "      <td>0.000000</td>\n",
       "      <td>8.000000</td>\n",
       "      <td>13.500000</td>\n",
       "      <td>2.792295e+05</td>\n",
       "      <td>0.000000</td>\n",
       "      <td>16.000000</td>\n",
       "      <td>0.000000</td>\n",
       "      <td>1.801690e+05</td>\n",
       "      <td>1.142565e+05</td>\n",
       "      <td>10067.500000</td>\n",
       "      <td>711.000000</td>\n",
       "      <td>0.000000</td>\n",
       "    </tr>\n",
       "    <tr>\n",
       "      <th>50%</th>\n",
       "      <td>1.168386e+06</td>\n",
       "      <td>0.000000</td>\n",
       "      <td>10.000000</td>\n",
       "      <td>17.000000</td>\n",
       "      <td>4.781590e+05</td>\n",
       "      <td>0.000000</td>\n",
       "      <td>32.000000</td>\n",
       "      <td>0.000000</td>\n",
       "      <td>3.095730e+05</td>\n",
       "      <td>2.093230e+05</td>\n",
       "      <td>16076.500000</td>\n",
       "      <td>731.000000</td>\n",
       "      <td>0.000000</td>\n",
       "    </tr>\n",
       "    <tr>\n",
       "      <th>75%</th>\n",
       "      <td>1.640137e+06</td>\n",
       "      <td>0.000000</td>\n",
       "      <td>14.000000</td>\n",
       "      <td>21.800000</td>\n",
       "      <td>7.935015e+05</td>\n",
       "      <td>0.000000</td>\n",
       "      <td>50.000000</td>\n",
       "      <td>0.000000</td>\n",
       "      <td>5.198820e+05</td>\n",
       "      <td>3.604062e+05</td>\n",
       "      <td>23818.000000</td>\n",
       "      <td>743.000000</td>\n",
       "      <td>1.000000</td>\n",
       "    </tr>\n",
       "    <tr>\n",
       "      <th>max</th>\n",
       "      <td>1.014934e+07</td>\n",
       "      <td>7.000000</td>\n",
       "      <td>43.000000</td>\n",
       "      <td>57.700000</td>\n",
       "      <td>1.304726e+09</td>\n",
       "      <td>7.000000</td>\n",
       "      <td>118.000000</td>\n",
       "      <td>4.000000</td>\n",
       "      <td>1.000000e+08</td>\n",
       "      <td>6.506797e+06</td>\n",
       "      <td>136679.000000</td>\n",
       "      <td>7510.000000</td>\n",
       "      <td>1.000000</td>\n",
       "    </tr>\n",
       "  </tbody>\n",
       "</table>\n",
       "</div>"
      ],
      "text/plain": [
       "       Annual Income    Tax Liens  Number of Open Accounts  \\\n",
       "count   5.943000e+03  7500.000000              7500.000000   \n",
       "mean    1.366392e+06     0.030133                11.130933   \n",
       "std     8.453392e+05     0.271604                 4.908924   \n",
       "min     1.645970e+05     0.000000                 2.000000   \n",
       "25%     8.443410e+05     0.000000                 8.000000   \n",
       "50%     1.168386e+06     0.000000                10.000000   \n",
       "75%     1.640137e+06     0.000000                14.000000   \n",
       "max     1.014934e+07     7.000000                43.000000   \n",
       "\n",
       "       Years of Credit History  Maximum Open Credit  \\\n",
       "count              7500.000000         7.500000e+03   \n",
       "mean                 18.317467         9.451537e+05   \n",
       "std                   7.041946         1.602622e+07   \n",
       "min                   4.000000         0.000000e+00   \n",
       "25%                  13.500000         2.792295e+05   \n",
       "50%                  17.000000         4.781590e+05   \n",
       "75%                  21.800000         7.935015e+05   \n",
       "max                  57.700000         1.304726e+09   \n",
       "\n",
       "       Number of Credit Problems  Months since last delinquent  Bankruptcies  \\\n",
       "count                7500.000000                   3419.000000   7486.000000   \n",
       "mean                    0.170000                     34.692600      0.117152   \n",
       "std                     0.498598                     21.688806      0.347192   \n",
       "min                     0.000000                      0.000000      0.000000   \n",
       "25%                     0.000000                     16.000000      0.000000   \n",
       "50%                     0.000000                     32.000000      0.000000   \n",
       "75%                     0.000000                     50.000000      0.000000   \n",
       "max                     7.000000                    118.000000      4.000000   \n",
       "\n",
       "       Current Loan Amount  Current Credit Balance   Monthly Debt  \\\n",
       "count         7.500000e+03            7.500000e+03    7500.000000   \n",
       "mean          1.187318e+07            2.898332e+05   18314.454133   \n",
       "std           3.192612e+07            3.178714e+05   11926.764673   \n",
       "min           1.124200e+04            0.000000e+00       0.000000   \n",
       "25%           1.801690e+05            1.142565e+05   10067.500000   \n",
       "50%           3.095730e+05            2.093230e+05   16076.500000   \n",
       "75%           5.198820e+05            3.604062e+05   23818.000000   \n",
       "max           1.000000e+08            6.506797e+06  136679.000000   \n",
       "\n",
       "       Credit Score  Credit Default  \n",
       "count   5943.000000     7500.000000  \n",
       "mean    1151.087498        0.281733  \n",
       "std     1604.451418        0.449874  \n",
       "min      585.000000        0.000000  \n",
       "25%      711.000000        0.000000  \n",
       "50%      731.000000        0.000000  \n",
       "75%      743.000000        1.000000  \n",
       "max     7510.000000        1.000000  "
      ]
     },
     "execution_count": 10,
     "metadata": {},
     "output_type": "execute_result"
    }
   ],
   "source": [
    "df_train.describe()"
   ]
  },
  {
   "cell_type": "code",
   "execution_count": 11,
   "metadata": {},
   "outputs": [
    {
     "data": {
      "text/plain": [
       "7500"
      ]
     },
     "execution_count": 11,
     "metadata": {},
     "output_type": "execute_result"
    }
   ],
   "source": [
    "(df_train['Annual Income'].isna() == df_train['Credit Score'].isna()).sum()"
   ]
  },
  {
   "cell_type": "code",
   "execution_count": 12,
   "metadata": {},
   "outputs": [
    {
     "data": {
      "text/plain": [
       "2500"
      ]
     },
     "execution_count": 12,
     "metadata": {},
     "output_type": "execute_result"
    }
   ],
   "source": [
    "(df_test['Annual Income'].isna() == df_test['Credit Score'].isna()).sum()"
   ]
  },
  {
   "cell_type": "code",
   "execution_count": 13,
   "metadata": {},
   "outputs": [
    {
     "data": {
      "text/plain": [
       "array([[ 1.        , -0.03783175],\n",
       "       [-0.03783175,  1.        ]])"
      ]
     },
     "execution_count": 13,
     "metadata": {},
     "output_type": "execute_result"
    }
   ],
   "source": [
    "np.corrcoef(df_train.loc[df_train['Annual Income'].isna() == False, 'Annual Income'], df_train.loc[df_train['Credit Score'].isna() == False, 'Credit Score'])"
   ]
  },
  {
   "cell_type": "code",
   "execution_count": 14,
   "metadata": {},
   "outputs": [
    {
     "data": {
      "text/plain": [
       "array([[ 1.        , -0.04685602],\n",
       "       [-0.04685602,  1.        ]])"
      ]
     },
     "execution_count": 14,
     "metadata": {},
     "output_type": "execute_result"
    }
   ],
   "source": [
    "np.corrcoef(df_test.loc[df_test['Annual Income'].isna() == False, 'Annual Income'], df_test.loc[df_test['Credit Score'].isna() == False, 'Credit Score'])"
   ]
  },
  {
   "cell_type": "markdown",
   "metadata": {},
   "source": [
    "Nan значения у Annual Income и Credit Score полностью совпадают, но корреляции нет. Возможно, кредитный скор невозможно посчитать без знания годового дохода, но размер дохода и скоринг при этом независимы"
   ]
  },
  {
   "cell_type": "code",
   "execution_count": 15,
   "metadata": {},
   "outputs": [
    {
     "data": {
      "image/png": "[encoded data removed]",
      "text/plain": [
       "<Figure size 720x576 with 1 Axes>"
      ]
     },
     "metadata": {
      "needs_background": "light"
     },
     "output_type": "display_data"
    }
   ],
   "source": [
    "corr_with_target = df_train[df_train.columns.drop('Credit Default').tolist() + ['Credit Default']].corr().iloc[:-1, -1].sort_values(ascending=False)\n",
    "\n",
    "plt.figure(figsize=(10, 8))\n",
    "sns.barplot(x=corr_with_target.values, y=corr_with_target.index)\n",
    "plt.title('Correlation with target variable');"
   ]
  },
  {
   "cell_type": "markdown",
   "metadata": {},
   "source": [
    "Наиболее коррелируют с целевой переменной Credit Score, Annual Income и Current Load Amount"
   ]
  },
  {
   "cell_type": "code",
   "execution_count": 16,
   "metadata": {},
   "outputs": [],
   "source": [
    "def cramers_v(confusion_matrix):\n",
    "    \"\"\" calculate Cramers V statistic for categorial-categorial association.\n",
    "        uses correction from Bergsma and Wicher,\n",
    "        Journal of the Korean Statistical Society 42 (2013): 323-328\n",
    "    \"\"\"\n",
    "    chi2 = stats.chi2_contingency(confusion_matrix)[0]\n",
    "    n = confusion_matrix.sum().sum()\n",
    "    phi2 = chi2 / n\n",
    "    r, k = confusion_matrix.shape\n",
    "    phi2corr = max(0, phi2 - ((k-1)*(r-1))/(n-1))\n",
    "    rcorr = r - ((r-1)**2)/(n-1)\n",
    "    kcorr = k - ((k-1)**2)/(n-1)\n",
    "    return np.sqrt(phi2corr / min((kcorr-1), (rcorr-1)))"
   ]
  },
  {
   "cell_type": "code",
   "execution_count": 17,
   "metadata": {},
   "outputs": [],
   "source": [
    "confusion_matrix_purpose = pd.crosstab(df_train['Purpose'], df_train['Credit Default'])\n",
    "confusion_matrix_homeownership = pd.crosstab(df_train['Home Ownership'], df_train['Credit Default'])\n",
    "confusion_matrix_jobyears = pd.crosstab(df_train['Years in current job'], df_train['Credit Default'])\n",
    "confusion_matrix_term = pd.crosstab(df_train['Term'], df_train['Credit Default'])\n"
   ]
  },
  {
   "cell_type": "code",
   "execution_count": 18,
   "metadata": {},
   "outputs": [
    {
     "data": {
      "text/plain": [
       "(0.04956346808303591, 0.06332799061940161, 0.0, 0.18079272505856786)"
      ]
     },
     "execution_count": 18,
     "metadata": {},
     "output_type": "execute_result"
    }
   ],
   "source": [
    "cramers_v(confusion_matrix_purpose), cramers_v(confusion_matrix_homeownership), cramers_v(confusion_matrix_jobyears), cramers_v(confusion_matrix_term)"
   ]
  },
  {
   "cell_type": "markdown",
   "metadata": {},
   "source": [
    "**to do**\n",
    "\n",
    "* **Home Ownership** - dummy\n",
    "* **Annual Income** - Nan \n",
    "* **Years in current job** - убираем year, 10+ -> 10, <1 -> 0, Nan\n",
    "* **Tax Liens** - \n",
    "* **Number of Open Accounts** - \n",
    "* **Years of Credit History** - \n",
    "* **Maximum Open Credit** - \n",
    "* **Number of Credit Problems** - \n",
    "* **Months since last delinquent** - Nan -> 99999999 (не было проблем)\n",
    "* **Bankruptcies** - Nan\n",
    "* **Purpose** - dummy\n",
    "* **Term** - dummy\n",
    "* **Current Loan Amount** - \n",
    "* **Current Credit Balance** - \n",
    "* **Monthly Debt** - ежемесячный долг\n",
    "* **Credit Score** - убираем лишний 0, Nan"
   ]
  },
  {
   "cell_type": "markdown",
   "metadata": {},
   "source": [
    "## DATASET PREPARATION"
   ]
  },
  {
   "cell_type": "markdown",
   "metadata": {},
   "source": [
    "### NaN fill"
   ]
  },
  {
   "cell_type": "code",
   "execution_count": 19,
   "metadata": {},
   "outputs": [],
   "source": [
    "def nan_fill(X):\n",
    "\n",
    "    X['Years in current job'] = X['Years in current job'].replace(regex = True, to_replace = r'\\W\\s\\D+$|\\s\\D+$', value = '').replace('< 1', 0)\n",
    "    X.loc[X['Years in current job'].isna(), 'Years in current job'] = df_train['Years in current job'].median()\n",
    "    X['Years in current job'] = X['Years in current job'].astype('int')\n",
    "\n",
    "    \n",
    "    for col in X.select_dtypes(include='object').columns:\n",
    "        X[col] = X[col].astype('category')\n",
    "\n",
    "    X.loc[X['Months since last delinquent'].isna(), 'Months since last delinquent'] = 99999999\n",
    "\n",
    "    X.loc[X['Bankruptcies'].isna(), 'Bankruptcies'] = df_train['Bankruptcies'].value_counts().idxmax()\n",
    "\n",
    "#     X.loc[X['Credit Score'] > 999, 'Credit Score'] = X.loc[X['Credit Score'] > 1000, 'Credit Score'] // 10\n",
    "    \n",
    "    return X"
   ]
  },
  {
   "cell_type": "code",
   "execution_count": 20,
   "metadata": {},
   "outputs": [],
   "source": [
    "df_train = nan_fill(df_train)\n",
    "df_test = nan_fill(df_test)"
   ]
  },
  {
   "cell_type": "markdown",
   "metadata": {},
   "source": [
    "Для заполнения NaN будем использовать IterativeImputer"
   ]
  },
  {
   "cell_type": "code",
   "execution_count": 21,
   "metadata": {},
   "outputs": [],
   "source": [
    "df_train_cat = df_train.select_dtypes(include='category')\n",
    "df_test_cat = df_test.select_dtypes(include='category')\n",
    "\n",
    "df_train_num = df_train.select_dtypes(exclude='category')\n",
    "df_test_num = df_test.select_dtypes(exclude='category')\n",
    "\n",
    "df_train_num = df_train_num.drop(['Credit Default'], axis = 1)\n",
    "df_train_target = df_train['Credit Default']"
   ]
  },
  {
   "cell_type": "code",
   "execution_count": 22,
   "metadata": {},
   "outputs": [],
   "source": [
    "imputer = IterativeImputer(max_iter = 100)\n",
    "imp_arr_train = pd.DataFrame(imputer.fit_transform(df_train_num))\n",
    "imp_arr_test = pd.DataFrame(imputer.transform(df_test_num))"
   ]
  },
  {
   "cell_type": "code",
   "execution_count": 23,
   "metadata": {},
   "outputs": [],
   "source": [
    "imp_arr_train.columns = df_train_num.columns\n",
    "imp_arr_test.columns = df_test_num.columns"
   ]
  },
  {
   "cell_type": "code",
   "execution_count": 24,
   "metadata": {},
   "outputs": [],
   "source": [
    "df_train = pd.concat([df_train_cat, imp_arr_train], axis = 1)\n",
    "df_train = pd.concat([df_train, df_train_target], axis = 1)\n",
    "\n",
    "df_test = pd.concat([df_test_cat, imp_arr_test], axis = 1)"
   ]
  },
  {
   "cell_type": "code",
   "execution_count": 25,
   "metadata": {},
   "outputs": [],
   "source": [
    "for col in df_test.select_dtypes(include='object').columns:\n",
    "    df_test[col] = df_test[col].astype('category')\n",
    "for col in df_train.select_dtypes(include='object').columns:\n",
    "    df_train[col] = df_train[col].astype('category')"
   ]
  },
  {
   "cell_type": "code",
   "execution_count": 26,
   "metadata": {},
   "outputs": [
    {
     "name": "stdout",
     "output_type": "stream",
     "text": [
      "<class 'pandas.core.frame.DataFrame'>\n",
      "RangeIndex: 7500 entries, 0 to 7499\n",
      "Data columns (total 17 columns):\n",
      " #   Column                        Non-Null Count  Dtype   \n",
      "---  ------                        --------------  -----   \n",
      " 0   Home Ownership                7500 non-null   category\n",
      " 1   Purpose                       7500 non-null   category\n",
      " 2   Term                          7500 non-null   category\n",
      " 3   Annual Income                 7500 non-null   float64 \n",
      " 4   Years in current job          7500 non-null   float64 \n",
      " 5   Tax Liens                     7500 non-null   float64 \n",
      " 6   Number of Open Accounts       7500 non-null   float64 \n",
      " 7   Years of Credit History       7500 non-null   float64 \n",
      " 8   Maximum Open Credit           7500 non-null   float64 \n",
      " 9   Number of Credit Problems     7500 non-null   float64 \n",
      " 10  Months since last delinquent  7500 non-null   float64 \n",
      " 11  Bankruptcies                  7500 non-null   float64 \n",
      " 12  Current Loan Amount           7500 non-null   float64 \n",
      " 13  Current Credit Balance        7500 non-null   float64 \n",
      " 14  Monthly Debt                  7500 non-null   float64 \n",
      " 15  Credit Score                  7500 non-null   float64 \n",
      " 16  Credit Default                7500 non-null   int64   \n",
      "dtypes: category(3), float64(13), int64(1)\n",
      "memory usage: 843.4 KB\n"
     ]
    }
   ],
   "source": [
    "df_train.info()"
   ]
  },
  {
   "cell_type": "code",
   "execution_count": 27,
   "metadata": {},
   "outputs": [
    {
     "name": "stdout",
     "output_type": "stream",
     "text": [
      "<class 'pandas.core.frame.DataFrame'>\n",
      "RangeIndex: 2500 entries, 0 to 2499\n",
      "Data columns (total 16 columns):\n",
      " #   Column                        Non-Null Count  Dtype   \n",
      "---  ------                        --------------  -----   \n",
      " 0   Home Ownership                2500 non-null   category\n",
      " 1   Purpose                       2500 non-null   category\n",
      " 2   Term                          2500 non-null   category\n",
      " 3   Annual Income                 2500 non-null   float64 \n",
      " 4   Years in current job          2500 non-null   float64 \n",
      " 5   Tax Liens                     2500 non-null   float64 \n",
      " 6   Number of Open Accounts       2500 non-null   float64 \n",
      " 7   Years of Credit History       2500 non-null   float64 \n",
      " 8   Maximum Open Credit           2500 non-null   float64 \n",
      " 9   Number of Credit Problems     2500 non-null   float64 \n",
      " 10  Months since last delinquent  2500 non-null   float64 \n",
      " 11  Bankruptcies                  2500 non-null   float64 \n",
      " 12  Current Loan Amount           2500 non-null   float64 \n",
      " 13  Current Credit Balance        2500 non-null   float64 \n",
      " 14  Monthly Debt                  2500 non-null   float64 \n",
      " 15  Credit Score                  2500 non-null   float64 \n",
      "dtypes: category(3), float64(13)\n",
      "memory usage: 262.4 KB\n"
     ]
    }
   ],
   "source": [
    "df_test.info()"
   ]
  },
  {
   "cell_type": "code",
   "execution_count": 28,
   "metadata": {},
   "outputs": [
    {
     "data": {
      "text/html": [
       "<div>\n",
       "<style scoped>\n",
       "    .dataframe tbody tr th:only-of-type {\n",
       "        vertical-align: middle;\n",
       "    }\n",
       "\n",
       "    .dataframe tbody tr th {\n",
       "        vertical-align: top;\n",
       "    }\n",
       "\n",
       "    .dataframe thead th {\n",
       "        text-align: right;\n",
       "    }\n",
       "</style>\n",
       "<table border=\"1\" class=\"dataframe\">\n",
       "  <thead>\n",
       "    <tr style=\"text-align: right;\">\n",
       "      <th></th>\n",
       "      <th>Annual Income</th>\n",
       "      <th>Years in current job</th>\n",
       "      <th>Tax Liens</th>\n",
       "      <th>Number of Open Accounts</th>\n",
       "      <th>Years of Credit History</th>\n",
       "      <th>Maximum Open Credit</th>\n",
       "      <th>Number of Credit Problems</th>\n",
       "      <th>Months since last delinquent</th>\n",
       "      <th>Bankruptcies</th>\n",
       "      <th>Current Loan Amount</th>\n",
       "      <th>Current Credit Balance</th>\n",
       "      <th>Monthly Debt</th>\n",
       "      <th>Credit Score</th>\n",
       "      <th>Credit Default</th>\n",
       "    </tr>\n",
       "  </thead>\n",
       "  <tbody>\n",
       "    <tr>\n",
       "      <th>count</th>\n",
       "      <td>7.500000e+03</td>\n",
       "      <td>7500.000000</td>\n",
       "      <td>7500.000000</td>\n",
       "      <td>7500.000000</td>\n",
       "      <td>7500.000000</td>\n",
       "      <td>7.500000e+03</td>\n",
       "      <td>7500.000000</td>\n",
       "      <td>7.500000e+03</td>\n",
       "      <td>7500.000000</td>\n",
       "      <td>7.500000e+03</td>\n",
       "      <td>7.500000e+03</td>\n",
       "      <td>7500.000000</td>\n",
       "      <td>7500.000000</td>\n",
       "      <td>7500.000000</td>\n",
       "    </tr>\n",
       "    <tr>\n",
       "      <th>mean</th>\n",
       "      <td>1.364280e+06</td>\n",
       "      <td>5.886267</td>\n",
       "      <td>0.030133</td>\n",
       "      <td>11.130933</td>\n",
       "      <td>18.317467</td>\n",
       "      <td>9.451537e+05</td>\n",
       "      <td>0.170000</td>\n",
       "      <td>5.441335e+07</td>\n",
       "      <td>0.116933</td>\n",
       "      <td>1.187318e+07</td>\n",
       "      <td>2.898332e+05</td>\n",
       "      <td>18314.454133</td>\n",
       "      <td>1165.723139</td>\n",
       "      <td>0.281733</td>\n",
       "    </tr>\n",
       "    <tr>\n",
       "      <th>std</th>\n",
       "      <td>7.885356e+05</td>\n",
       "      <td>3.529503</td>\n",
       "      <td>0.271604</td>\n",
       "      <td>4.908924</td>\n",
       "      <td>7.041946</td>\n",
       "      <td>1.602622e+07</td>\n",
       "      <td>0.498598</td>\n",
       "      <td>4.980815e+07</td>\n",
       "      <td>0.346904</td>\n",
       "      <td>3.192612e+07</td>\n",
       "      <td>3.178714e+05</td>\n",
       "      <td>11926.764673</td>\n",
       "      <td>1428.948209</td>\n",
       "      <td>0.449874</td>\n",
       "    </tr>\n",
       "    <tr>\n",
       "      <th>min</th>\n",
       "      <td>1.645970e+05</td>\n",
       "      <td>0.000000</td>\n",
       "      <td>0.000000</td>\n",
       "      <td>2.000000</td>\n",
       "      <td>4.000000</td>\n",
       "      <td>0.000000e+00</td>\n",
       "      <td>0.000000</td>\n",
       "      <td>0.000000e+00</td>\n",
       "      <td>0.000000</td>\n",
       "      <td>1.124200e+04</td>\n",
       "      <td>0.000000e+00</td>\n",
       "      <td>0.000000</td>\n",
       "      <td>-1706.961086</td>\n",
       "      <td>0.000000</td>\n",
       "    </tr>\n",
       "    <tr>\n",
       "      <th>25%</th>\n",
       "      <td>8.741707e+05</td>\n",
       "      <td>3.000000</td>\n",
       "      <td>0.000000</td>\n",
       "      <td>8.000000</td>\n",
       "      <td>13.500000</td>\n",
       "      <td>2.792295e+05</td>\n",
       "      <td>0.000000</td>\n",
       "      <td>3.500000e+01</td>\n",
       "      <td>0.000000</td>\n",
       "      <td>1.801690e+05</td>\n",
       "      <td>1.142565e+05</td>\n",
       "      <td>10067.500000</td>\n",
       "      <td>718.000000</td>\n",
       "      <td>0.000000</td>\n",
       "    </tr>\n",
       "    <tr>\n",
       "      <th>50%</th>\n",
       "      <td>1.202638e+06</td>\n",
       "      <td>6.000000</td>\n",
       "      <td>0.000000</td>\n",
       "      <td>10.000000</td>\n",
       "      <td>17.000000</td>\n",
       "      <td>4.781590e+05</td>\n",
       "      <td>0.000000</td>\n",
       "      <td>1.000000e+08</td>\n",
       "      <td>0.000000</td>\n",
       "      <td>3.095730e+05</td>\n",
       "      <td>2.093230e+05</td>\n",
       "      <td>16076.500000</td>\n",
       "      <td>738.000000</td>\n",
       "      <td>0.000000</td>\n",
       "    </tr>\n",
       "    <tr>\n",
       "      <th>75%</th>\n",
       "      <td>1.626730e+06</td>\n",
       "      <td>10.000000</td>\n",
       "      <td>0.000000</td>\n",
       "      <td>14.000000</td>\n",
       "      <td>21.800000</td>\n",
       "      <td>7.935015e+05</td>\n",
       "      <td>0.000000</td>\n",
       "      <td>1.000000e+08</td>\n",
       "      <td>0.000000</td>\n",
       "      <td>5.198820e+05</td>\n",
       "      <td>3.604062e+05</td>\n",
       "      <td>23818.000000</td>\n",
       "      <td>1174.926927</td>\n",
       "      <td>1.000000</td>\n",
       "    </tr>\n",
       "    <tr>\n",
       "      <th>max</th>\n",
       "      <td>1.014934e+07</td>\n",
       "      <td>10.000000</td>\n",
       "      <td>7.000000</td>\n",
       "      <td>43.000000</td>\n",
       "      <td>57.700000</td>\n",
       "      <td>1.304726e+09</td>\n",
       "      <td>7.000000</td>\n",
       "      <td>1.000000e+08</td>\n",
       "      <td>4.000000</td>\n",
       "      <td>1.000000e+08</td>\n",
       "      <td>6.506797e+06</td>\n",
       "      <td>136679.000000</td>\n",
       "      <td>7510.000000</td>\n",
       "      <td>1.000000</td>\n",
       "    </tr>\n",
       "  </tbody>\n",
       "</table>\n",
       "</div>"
      ],
      "text/plain": [
       "       Annual Income  Years in current job    Tax Liens  \\\n",
       "count   7.500000e+03           7500.000000  7500.000000   \n",
       "mean    1.364280e+06              5.886267     0.030133   \n",
       "std     7.885356e+05              3.529503     0.271604   \n",
       "min     1.645970e+05              0.000000     0.000000   \n",
       "25%     8.741707e+05              3.000000     0.000000   \n",
       "50%     1.202638e+06              6.000000     0.000000   \n",
       "75%     1.626730e+06             10.000000     0.000000   \n",
       "max     1.014934e+07             10.000000     7.000000   \n",
       "\n",
       "       Number of Open Accounts  Years of Credit History  Maximum Open Credit  \\\n",
       "count              7500.000000              7500.000000         7.500000e+03   \n",
       "mean                 11.130933                18.317467         9.451537e+05   \n",
       "std                   4.908924                 7.041946         1.602622e+07   \n",
       "min                   2.000000                 4.000000         0.000000e+00   \n",
       "25%                   8.000000                13.500000         2.792295e+05   \n",
       "50%                  10.000000                17.000000         4.781590e+05   \n",
       "75%                  14.000000                21.800000         7.935015e+05   \n",
       "max                  43.000000                57.700000         1.304726e+09   \n",
       "\n",
       "       Number of Credit Problems  Months since last delinquent  Bankruptcies  \\\n",
       "count                7500.000000                  7.500000e+03   7500.000000   \n",
       "mean                    0.170000                  5.441335e+07      0.116933   \n",
       "std                     0.498598                  4.980815e+07      0.346904   \n",
       "min                     0.000000                  0.000000e+00      0.000000   \n",
       "25%                     0.000000                  3.500000e+01      0.000000   \n",
       "50%                     0.000000                  1.000000e+08      0.000000   \n",
       "75%                     0.000000                  1.000000e+08      0.000000   \n",
       "max                     7.000000                  1.000000e+08      4.000000   \n",
       "\n",
       "       Current Loan Amount  Current Credit Balance   Monthly Debt  \\\n",
       "count         7.500000e+03            7.500000e+03    7500.000000   \n",
       "mean          1.187318e+07            2.898332e+05   18314.454133   \n",
       "std           3.192612e+07            3.178714e+05   11926.764673   \n",
       "min           1.124200e+04            0.000000e+00       0.000000   \n",
       "25%           1.801690e+05            1.142565e+05   10067.500000   \n",
       "50%           3.095730e+05            2.093230e+05   16076.500000   \n",
       "75%           5.198820e+05            3.604062e+05   23818.000000   \n",
       "max           1.000000e+08            6.506797e+06  136679.000000   \n",
       "\n",
       "       Credit Score  Credit Default  \n",
       "count   7500.000000     7500.000000  \n",
       "mean    1165.723139        0.281733  \n",
       "std     1428.948209        0.449874  \n",
       "min    -1706.961086        0.000000  \n",
       "25%      718.000000        0.000000  \n",
       "50%      738.000000        0.000000  \n",
       "75%     1174.926927        1.000000  \n",
       "max     7510.000000        1.000000  "
      ]
     },
     "execution_count": 28,
     "metadata": {},
     "output_type": "execute_result"
    }
   ],
   "source": [
    "df_train.describe()"
   ]
  },
  {
   "cell_type": "markdown",
   "metadata": {},
   "source": [
    "### Dummies"
   ]
  },
  {
   "cell_type": "code",
   "execution_count": 29,
   "metadata": {},
   "outputs": [
    {
     "name": "stdout",
     "output_type": "stream",
     "text": [
      "Home Ownership\n",
      "\n",
      "Home Mortgage    3637\n",
      "Rent             3204\n",
      "Own Home          647\n",
      "Have Mortgage      12\n",
      "Name: Home Ownership, dtype: int64\n",
      "****************************************************************************************************\n",
      "\n",
      "Purpose\n",
      "\n",
      "debt consolidation      5944\n",
      "other                    665\n",
      "home improvements        412\n",
      "business loan            129\n",
      "buy a car                 96\n",
      "medical bills             71\n",
      "major purchase            40\n",
      "take a trip               37\n",
      "buy house                 34\n",
      "small business            26\n",
      "wedding                   15\n",
      "moving                    11\n",
      "educational expenses      10\n",
      "vacation                   8\n",
      "renewable energy           2\n",
      "Name: Purpose, dtype: int64\n",
      "****************************************************************************************************\n",
      "\n",
      "Term\n",
      "\n",
      "Short Term    5556\n",
      "Long Term     1944\n",
      "Name: Term, dtype: int64\n",
      "****************************************************************************************************\n",
      "\n"
     ]
    }
   ],
   "source": [
    "for cat_colname in df_train.select_dtypes(include='category').columns:\n",
    "    print(str(cat_colname) + '\\n\\n' + str(df_train[cat_colname].value_counts()) + '\\n' + '*' * 100 + '\\n')"
   ]
  },
  {
   "cell_type": "code",
   "execution_count": 30,
   "metadata": {},
   "outputs": [],
   "source": [
    "purpose_mean_encode = df_train.groupby('Purpose')['Credit Default'].mean()"
   ]
  },
  {
   "cell_type": "code",
   "execution_count": 31,
   "metadata": {},
   "outputs": [],
   "source": [
    "def dummy_encode(X):\n",
    "    X['Dummy_Longterm'] = X['Term'].map({'Short Term': 0, 'Long Term': 1}).astype(int)\n",
    "    X['Dummy_Ownhome'] = X['Home Ownership'].map({'Rent': 0, 'Home Mortgage': 1, 'Have Mortgage': 1, 'Own Home': 2}).astype(int)\n",
    "    X.loc[:, 'Dummy_Purpose_mean_enc'] = X['Purpose'].map(purpose_mean_encode)\n",
    "    \n",
    "    return X"
   ]
  },
  {
   "cell_type": "code",
   "execution_count": 32,
   "metadata": {},
   "outputs": [],
   "source": [
    "df_train = dummy_encode(df_train)\n",
    "df_test = dummy_encode(df_test)"
   ]
  },
  {
   "cell_type": "code",
   "execution_count": 35,
   "metadata": {},
   "outputs": [
    {
     "name": "stdout",
     "output_type": "stream",
     "text": [
      "<class 'pandas.core.frame.DataFrame'>\n",
      "RangeIndex: 2500 entries, 0 to 2499\n",
      "Data columns (total 19 columns):\n",
      " #   Column                        Non-Null Count  Dtype   \n",
      "---  ------                        --------------  -----   \n",
      " 0   Home Ownership                2500 non-null   category\n",
      " 1   Purpose                       2500 non-null   category\n",
      " 2   Term                          2500 non-null   category\n",
      " 3   Annual Income                 2500 non-null   float64 \n",
      " 4   Years in current job          2500 non-null   float64 \n",
      " 5   Tax Liens                     2500 non-null   float64 \n",
      " 6   Number of Open Accounts       2500 non-null   float64 \n",
      " 7   Years of Credit History       2500 non-null   float64 \n",
      " 8   Maximum Open Credit           2500 non-null   float64 \n",
      " 9   Number of Credit Problems     2500 non-null   float64 \n",
      " 10  Months since last delinquent  2500 non-null   float64 \n",
      " 11  Bankruptcies                  2500 non-null   float64 \n",
      " 12  Current Loan Amount           2500 non-null   float64 \n",
      " 13  Current Credit Balance        2500 non-null   float64 \n",
      " 14  Monthly Debt                  2500 non-null   float64 \n",
      " 15  Credit Score                  2500 non-null   float64 \n",
      " 16  Dummy_Longterm                2500 non-null   int32   \n",
      " 17  Dummy_Ownhome                 2500 non-null   int32   \n",
      " 18  Dummy_Purpose_mean_enc        2500 non-null   float64 \n",
      "dtypes: category(3), float64(14), int32(2)\n",
      "memory usage: 301.4 KB\n"
     ]
    }
   ],
   "source": [
    "df_test.info()"
   ]
  },
  {
   "cell_type": "markdown",
   "metadata": {},
   "source": [
    "### Feature selection"
   ]
  },
  {
   "cell_type": "code",
   "execution_count": 36,
   "metadata": {},
   "outputs": [],
   "source": [
    "TARGET_NAME = 'Credit Default'\n",
    "FEATURE_NAMES = df_train.columns.drop(TARGET_NAME).tolist()"
   ]
  },
  {
   "cell_type": "code",
   "execution_count": 37,
   "metadata": {},
   "outputs": [
    {
     "data": {
      "text/plain": [
       "['Home Ownership', 'Purpose', 'Term']"
      ]
     },
     "execution_count": 37,
     "metadata": {},
     "output_type": "execute_result"
    }
   ],
   "source": [
    "CAT_FEATURE_NAMES = [col for col in df_train.select_dtypes(include='category').columns]\n",
    "CAT_FEATURE_NAMES"
   ]
  },
  {
   "cell_type": "code",
   "execution_count": 38,
   "metadata": {},
   "outputs": [
    {
     "data": {
      "text/plain": [
       "['Dummy_Longterm', 'Dummy_Ownhome', 'Dummy_Purpose_mean_enc']"
      ]
     },
     "execution_count": 38,
     "metadata": {},
     "output_type": "execute_result"
    }
   ],
   "source": [
    "ENCODED_FEATURE_NAMES = [col for col in df_train.columns.drop(TARGET_NAME) if col.find('Dummy_') == False]\n",
    "ENCODED_FEATURE_NAMES"
   ]
  },
  {
   "cell_type": "code",
   "execution_count": 39,
   "metadata": {},
   "outputs": [
    {
     "data": {
      "text/plain": [
       "['Annual Income',\n",
       " 'Years in current job',\n",
       " 'Tax Liens',\n",
       " 'Number of Open Accounts',\n",
       " 'Years of Credit History',\n",
       " 'Maximum Open Credit',\n",
       " 'Number of Credit Problems',\n",
       " 'Months since last delinquent',\n",
       " 'Bankruptcies',\n",
       " 'Current Loan Amount',\n",
       " 'Current Credit Balance',\n",
       " 'Monthly Debt',\n",
       " 'Credit Score']"
      ]
     },
     "execution_count": 39,
     "metadata": {},
     "output_type": "execute_result"
    }
   ],
   "source": [
    "NUM_FEATURE_NAMES = [col for col in FEATURE_NAMES if col not in CAT_FEATURE_NAMES + ENCODED_FEATURE_NAMES]\n",
    "NUM_FEATURE_NAMES"
   ]
  },
  {
   "cell_type": "markdown",
   "metadata": {},
   "source": [
    "### Feature analysis"
   ]
  },
  {
   "cell_type": "code",
   "execution_count": 40,
   "metadata": {},
   "outputs": [
    {
     "data": {
      "image/png": "[encoded data removed]",
      "text/plain": [
       "<Figure size 720x720 with 2 Axes>"
      ]
     },
     "metadata": {
      "needs_background": "light"
     },
     "output_type": "display_data"
    }
   ],
   "source": [
    "plt.figure(figsize = (10,10))\n",
    "\n",
    "sns.set(font_scale=1)\n",
    "sns.heatmap(df_train[NUM_FEATURE_NAMES + CAT_FEATURE_NAMES].corr().round(2), annot=True, linewidths=.5, cmap='GnBu')\n",
    "plt.title('Correlation matrix');"
   ]
  },
  {
   "cell_type": "code",
   "execution_count": 41,
   "metadata": {},
   "outputs": [
    {
     "data": {
      "image/png": "[encoded data removed]",
      "text/plain": [
       "<Figure size 720x576 with 1 Axes>"
      ]
     },
     "metadata": {},
     "output_type": "display_data"
    }
   ],
   "source": [
    "corr_with_target = df_train[NUM_FEATURE_NAMES + ENCODED_FEATURE_NAMES + [TARGET_NAME]].corr().iloc[:-1, -1].sort_values(ascending=False)\n",
    "\n",
    "plt.figure(figsize=(10, 8))\n",
    "sns.barplot(x=corr_with_target.values, y=corr_with_target.index)\n",
    "plt.title('Correlation with target variable');"
   ]
  },
  {
   "cell_type": "markdown",
   "metadata": {},
   "source": [
    "Наиболее коррелируют с целевой переменной по-прежнему Credit Score, Annual Income и Current Load Amount, взаимосвязь с длительностью кредита после кодирования категориальных переменных тоже сохранилась"
   ]
  },
  {
   "cell_type": "markdown",
   "metadata": {},
   "source": [
    "### Data standartization"
   ]
  },
  {
   "cell_type": "code",
   "execution_count": 42,
   "metadata": {},
   "outputs": [],
   "source": [
    "scaler = StandardScaler()\n",
    "\n",
    "df_norm = df_train.copy()\n",
    "df_norm_test = df_test.copy()\n",
    "\n",
    "df_norm[NUM_FEATURE_NAMES] = scaler.fit_transform(df_norm[NUM_FEATURE_NAMES])\n",
    "df_norm_test[NUM_FEATURE_NAMES] = scaler.transform(df_norm_test[NUM_FEATURE_NAMES])"
   ]
  },
  {
   "cell_type": "code",
   "execution_count": 43,
   "metadata": {},
   "outputs": [
    {
     "name": "stdout",
     "output_type": "stream",
     "text": [
      "<class 'pandas.core.frame.DataFrame'>\n",
      "RangeIndex: 2500 entries, 0 to 2499\n",
      "Data columns (total 19 columns):\n",
      " #   Column                        Non-Null Count  Dtype   \n",
      "---  ------                        --------------  -----   \n",
      " 0   Home Ownership                2500 non-null   category\n",
      " 1   Purpose                       2500 non-null   category\n",
      " 2   Term                          2500 non-null   category\n",
      " 3   Annual Income                 2500 non-null   float64 \n",
      " 4   Years in current job          2500 non-null   float64 \n",
      " 5   Tax Liens                     2500 non-null   float64 \n",
      " 6   Number of Open Accounts       2500 non-null   float64 \n",
      " 7   Years of Credit History       2500 non-null   float64 \n",
      " 8   Maximum Open Credit           2500 non-null   float64 \n",
      " 9   Number of Credit Problems     2500 non-null   float64 \n",
      " 10  Months since last delinquent  2500 non-null   float64 \n",
      " 11  Bankruptcies                  2500 non-null   float64 \n",
      " 12  Current Loan Amount           2500 non-null   float64 \n",
      " 13  Current Credit Balance        2500 non-null   float64 \n",
      " 14  Monthly Debt                  2500 non-null   float64 \n",
      " 15  Credit Score                  2500 non-null   float64 \n",
      " 16  Dummy_Longterm                2500 non-null   int32   \n",
      " 17  Dummy_Ownhome                 2500 non-null   int32   \n",
      " 18  Dummy_Purpose_mean_enc        2500 non-null   float64 \n",
      "dtypes: category(3), float64(14), int32(2)\n",
      "memory usage: 301.4 KB\n"
     ]
    }
   ],
   "source": [
    "df_norm_test.info()"
   ]
  },
  {
   "cell_type": "markdown",
   "metadata": {},
   "source": [
    "# MODEL SELECTION"
   ]
  },
  {
   "cell_type": "code",
   "execution_count": 44,
   "metadata": {},
   "outputs": [],
   "source": [
    "def get_classification_report(y_train_true, y_train_pred, y_test_true, y_test_pred):\n",
    "    print('TRAIN\\n\\n' + classification_report(y_train_true, y_train_pred))\n",
    "    print('TEST\\n\\n' + classification_report(y_test_true, y_test_pred))\n",
    "    print('CONFUSION MATRIX\\n')\n",
    "    print(pd.crosstab(y_test_true, y_test_pred))"
   ]
  },
  {
   "cell_type": "markdown",
   "metadata": {},
   "source": [
    "### Train-test split"
   ]
  },
  {
   "cell_type": "code",
   "execution_count": 45,
   "metadata": {},
   "outputs": [],
   "source": [
    "X_enc = df_norm[NUM_FEATURE_NAMES + ENCODED_FEATURE_NAMES]\n",
    "X_cat = df_norm[NUM_FEATURE_NAMES + CAT_FEATURE_NAMES]\n",
    "\n",
    "X_enc_test = df_norm_test[NUM_FEATURE_NAMES + ENCODED_FEATURE_NAMES]\n",
    "X_cat_test = df_norm_test[NUM_FEATURE_NAMES + CAT_FEATURE_NAMES]\n",
    "\n",
    "y = df_norm[TARGET_NAME]"
   ]
  },
  {
   "cell_type": "code",
   "execution_count": 46,
   "metadata": {},
   "outputs": [
    {
     "data": {
      "text/plain": [
       "((5250, 16), (2250, 16), (5250,), (2250,))"
      ]
     },
     "execution_count": 46,
     "metadata": {},
     "output_type": "execute_result"
    }
   ],
   "source": [
    "X_enc_train, X_enc_valid, y_enc_train, y_enc_valid = train_test_split(X_enc, y, shuffle = True, test_size = 0.30, random_state = 42)\n",
    "X_enc_train.shape, X_enc_valid.shape, y_enc_train.shape, y_enc_valid.shape "
   ]
  },
  {
   "cell_type": "code",
   "execution_count": 47,
   "metadata": {},
   "outputs": [
    {
     "data": {
      "text/plain": [
       "((5250, 16), (2250, 16), (5250,), (2250,))"
      ]
     },
     "execution_count": 47,
     "metadata": {},
     "output_type": "execute_result"
    }
   ],
   "source": [
    "X_cat_train, X_cat_valid, y_cat_train, y_cat_valid = train_test_split(X_cat, y, shuffle = True, test_size = 0.30, random_state = 42)\n",
    "X_cat_train.shape, X_cat_valid.shape, y_cat_train.shape, y_cat_valid.shape "
   ]
  },
  {
   "cell_type": "markdown",
   "metadata": {},
   "source": [
    "## Logistic Regression"
   ]
  },
  {
   "cell_type": "code",
   "execution_count": 48,
   "metadata": {},
   "outputs": [
    {
     "name": "stdout",
     "output_type": "stream",
     "text": [
      "TRAIN\n",
      "\n",
      "              precision    recall  f1-score   support\n",
      "\n",
      "           0       0.78      0.97      0.86      3795\n",
      "           1       0.79      0.28      0.41      1455\n",
      "\n",
      "    accuracy                           0.78      5250\n",
      "   macro avg       0.78      0.62      0.64      5250\n",
      "weighted avg       0.78      0.78      0.74      5250\n",
      "\n",
      "TEST\n",
      "\n",
      "              precision    recall  f1-score   support\n",
      "\n",
      "           0       0.77      0.97      0.86      1592\n",
      "           1       0.81      0.31      0.45       658\n",
      "\n",
      "    accuracy                           0.78      2250\n",
      "   macro avg       0.79      0.64      0.66      2250\n",
      "weighted avg       0.78      0.78      0.74      2250\n",
      "\n",
      "CONFUSION MATRIX\n",
      "\n",
      "col_0              0    1\n",
      "Credit Default           \n",
      "0               1544   48\n",
      "1                451  207\n",
      "Wall time: 63.8 ms\n"
     ]
    }
   ],
   "source": [
    "%%time\n",
    "\n",
    "model_lr = LogisticRegression(random_state = 42)\n",
    "model_lr.fit(X_enc_train, y_enc_train)\n",
    "\n",
    "y_enc_train_pred = model_lr.predict(X_enc_train)\n",
    "y_enc_valid_pred = model_lr.predict(X_enc_valid)\n",
    "\n",
    "get_classification_report(y_enc_train, y_enc_train_pred, y_enc_valid, y_enc_valid_pred)"
   ]
  },
  {
   "cell_type": "markdown",
   "metadata": {},
   "source": [
    "## RandomForestClassifier"
   ]
  },
  {
   "cell_type": "code",
   "execution_count": 49,
   "metadata": {},
   "outputs": [
    {
     "name": "stdout",
     "output_type": "stream",
     "text": [
      "TRAIN\n",
      "\n",
      "              precision    recall  f1-score   support\n",
      "\n",
      "           0       1.00      1.00      1.00      3795\n",
      "           1       1.00      1.00      1.00      1455\n",
      "\n",
      "    accuracy                           1.00      5250\n",
      "   macro avg       1.00      1.00      1.00      5250\n",
      "weighted avg       1.00      1.00      1.00      5250\n",
      "\n",
      "TEST\n",
      "\n",
      "              precision    recall  f1-score   support\n",
      "\n",
      "           0       0.77      0.96      0.85      1592\n",
      "           1       0.76      0.31      0.44       658\n",
      "\n",
      "    accuracy                           0.77      2250\n",
      "   macro avg       0.77      0.63      0.65      2250\n",
      "weighted avg       0.77      0.77      0.73      2250\n",
      "\n",
      "CONFUSION MATRIX\n",
      "\n",
      "col_0              0    1\n",
      "Credit Default           \n",
      "0               1528   64\n",
      "1                455  203\n",
      "Wall time: 923 ms\n"
     ]
    }
   ],
   "source": [
    "%%time\n",
    "\n",
    "model_rf = RandomForestClassifier(random_state = 42)\n",
    "model_rf.fit(X_enc_train, y_enc_train)\n",
    "\n",
    "y_enc_train_pred = model_rf.predict(X_enc_train)\n",
    "y_enc_valid_pred = model_rf.predict(X_enc_valid)\n",
    "\n",
    "get_classification_report(y_enc_train, y_enc_train_pred, y_enc_valid, y_enc_valid_pred)"
   ]
  },
  {
   "cell_type": "markdown",
   "metadata": {},
   "source": [
    "## XGBoost"
   ]
  },
  {
   "cell_type": "code",
   "execution_count": 50,
   "metadata": {},
   "outputs": [
    {
     "name": "stdout",
     "output_type": "stream",
     "text": [
      "TRAIN\n",
      "\n",
      "              precision    recall  f1-score   support\n",
      "\n",
      "           0       0.79      0.98      0.88      3795\n",
      "           1       0.89      0.32      0.47      1455\n",
      "\n",
      "    accuracy                           0.80      5250\n",
      "   macro avg       0.84      0.65      0.68      5250\n",
      "weighted avg       0.82      0.80      0.77      5250\n",
      "\n",
      "TEST\n",
      "\n",
      "              precision    recall  f1-score   support\n",
      "\n",
      "           0       0.77      0.97      0.86      1592\n",
      "           1       0.83      0.30      0.44       658\n",
      "\n",
      "    accuracy                           0.78      2250\n",
      "   macro avg       0.80      0.64      0.65      2250\n",
      "weighted avg       0.79      0.78      0.74      2250\n",
      "\n",
      "CONFUSION MATRIX\n",
      "\n",
      "col_0              0    1\n",
      "Credit Default           \n",
      "0               1551   41\n",
      "1                460  198\n",
      "Wall time: 292 ms\n"
     ]
    }
   ],
   "source": [
    "%%time\n",
    "\n",
    "model_xgb = xgb.XGBClassifier(random_state = 42)\n",
    "model_xgb.fit(X_enc_train, y_enc_train)\n",
    "\n",
    "y_enc_train_pred = model_xgb.predict(X_enc_train)\n",
    "y_enc_valid_pred = model_xgb.predict(X_enc_valid)\n",
    "\n",
    "get_classification_report(y_enc_train, y_enc_train_pred, y_enc_valid, y_enc_valid_pred)"
   ]
  },
  {
   "cell_type": "markdown",
   "metadata": {},
   "source": [
    "## CatBoost"
   ]
  },
  {
   "cell_type": "code",
   "execution_count": 51,
   "metadata": {},
   "outputs": [
    {
     "name": "stdout",
     "output_type": "stream",
     "text": [
      "TRAIN\n",
      "\n",
      "              precision    recall  f1-score   support\n",
      "\n",
      "           0       0.86      1.00      0.92      3795\n",
      "           1       0.98      0.58      0.73      1455\n",
      "\n",
      "    accuracy                           0.88      5250\n",
      "   macro avg       0.92      0.79      0.83      5250\n",
      "weighted avg       0.89      0.88      0.87      5250\n",
      "\n",
      "TEST\n",
      "\n",
      "              precision    recall  f1-score   support\n",
      "\n",
      "           0       0.78      0.95      0.86      1592\n",
      "           1       0.75      0.35      0.48       658\n",
      "\n",
      "    accuracy                           0.78      2250\n",
      "   macro avg       0.77      0.65      0.67      2250\n",
      "weighted avg       0.77      0.78      0.75      2250\n",
      "\n",
      "CONFUSION MATRIX\n",
      "\n",
      "col_0              0    1\n",
      "Credit Default           \n",
      "0               1515   77\n",
      "1                427  231\n",
      "Wall time: 3.55 s\n"
     ]
    }
   ],
   "source": [
    "%%time\n",
    "\n",
    "model_catb = catb.CatBoostClassifier(silent = True, random_state = 42)\n",
    "model_catb.fit(X_enc_train, y_enc_train)\n",
    "\n",
    "y_enc_train_pred = model_catb.predict(X_enc_train)\n",
    "y_enc_valid_pred = model_catb.predict(X_enc_valid)\n",
    "\n",
    "get_classification_report(y_enc_train, y_enc_train_pred, y_enc_valid, y_enc_valid_pred)"
   ]
  },
  {
   "cell_type": "code",
   "execution_count": 52,
   "metadata": {},
   "outputs": [
    {
     "name": "stdout",
     "output_type": "stream",
     "text": [
      "TRAIN\n",
      "\n",
      "              precision    recall  f1-score   support\n",
      "\n",
      "           0       0.85      1.00      0.92      3795\n",
      "           1       0.98      0.53      0.69      1455\n",
      "\n",
      "    accuracy                           0.87      5250\n",
      "   macro avg       0.91      0.76      0.80      5250\n",
      "weighted avg       0.88      0.87      0.85      5250\n",
      "\n",
      "TEST\n",
      "\n",
      "              precision    recall  f1-score   support\n",
      "\n",
      "           0       0.78      0.95      0.86      1592\n",
      "           1       0.75      0.34      0.47       658\n",
      "\n",
      "    accuracy                           0.77      2250\n",
      "   macro avg       0.76      0.65      0.66      2250\n",
      "weighted avg       0.77      0.77      0.74      2250\n",
      "\n",
      "CONFUSION MATRIX\n",
      "\n",
      "col_0              0    1\n",
      "Credit Default           \n",
      "0               1517   75\n",
      "1                435  223\n",
      "Wall time: 14.9 s\n"
     ]
    }
   ],
   "source": [
    "%%time\n",
    "\n",
    "model_catb = catb.CatBoostClassifier(silent = True, random_state = 42)\n",
    "model_catb.fit(X_cat_train, y_cat_train, cat_features = CAT_FEATURE_NAMES)\n",
    "\n",
    "y_cat_train_pred = model_catb.predict(X_cat_train)\n",
    "y_cat_valid_pred = model_catb.predict(X_cat_valid)\n",
    "\n",
    "get_classification_report(y_cat_train, y_cat_train_pred, y_cat_valid, y_cat_valid_pred)"
   ]
  },
  {
   "cell_type": "markdown",
   "metadata": {},
   "source": [
    "## LightGBM"
   ]
  },
  {
   "cell_type": "code",
   "execution_count": 53,
   "metadata": {},
   "outputs": [
    {
     "name": "stdout",
     "output_type": "stream",
     "text": [
      "TRAIN\n",
      "\n",
      "              precision    recall  f1-score   support\n",
      "\n",
      "           0       0.90      1.00      0.95      3795\n",
      "           1       0.99      0.71      0.83      1455\n",
      "\n",
      "    accuracy                           0.92      5250\n",
      "   macro avg       0.94      0.86      0.89      5250\n",
      "weighted avg       0.93      0.92      0.91      5250\n",
      "\n",
      "TEST\n",
      "\n",
      "              precision    recall  f1-score   support\n",
      "\n",
      "           0       0.77      0.93      0.84      1592\n",
      "           1       0.67      0.34      0.45       658\n",
      "\n",
      "    accuracy                           0.76      2250\n",
      "   macro avg       0.72      0.63      0.65      2250\n",
      "weighted avg       0.74      0.76      0.73      2250\n",
      "\n",
      "CONFUSION MATRIX\n",
      "\n",
      "col_0              0    1\n",
      "Credit Default           \n",
      "0               1482  110\n",
      "1                437  221\n",
      "Wall time: 214 ms\n"
     ]
    }
   ],
   "source": [
    "%%time\n",
    "\n",
    "model_lgbm = lgbm.LGBMClassifier(random_state = 42)\n",
    "model_lgbm.fit(X_enc_train, y_enc_train)\n",
    "\n",
    "y_enc_train_pred = model_lgbm.predict(X_enc_train)\n",
    "y_enc_valid_pred = model_lgbm.predict(X_enc_valid)\n",
    "\n",
    "get_classification_report(y_enc_train, y_enc_train_pred, y_enc_valid, y_enc_valid_pred)"
   ]
  },
  {
   "cell_type": "code",
   "execution_count": 54,
   "metadata": {},
   "outputs": [
    {
     "name": "stderr",
     "output_type": "stream",
     "text": [
      "C:\\Users\\snetkova\\Anaconda3\\lib\\site-packages\\lightgbm\\basic.py:1247: UserWarning: categorical_feature in Dataset is overridden.\n",
      "New categorical_feature is ['Home Ownership', 'Purpose', 'Term']\n",
      "  'New categorical_feature is {}'.format(sorted(list(categorical_feature))))\n"
     ]
    },
    {
     "name": "stdout",
     "output_type": "stream",
     "text": [
      "TRAIN\n",
      "\n",
      "              precision    recall  f1-score   support\n",
      "\n",
      "           0       0.90      1.00      0.94      3795\n",
      "           1       0.99      0.70      0.82      1455\n",
      "\n",
      "    accuracy                           0.91      5250\n",
      "   macro avg       0.94      0.85      0.88      5250\n",
      "weighted avg       0.92      0.91      0.91      5250\n",
      "\n",
      "TEST\n",
      "\n",
      "              precision    recall  f1-score   support\n",
      "\n",
      "           0       0.78      0.94      0.85      1592\n",
      "           1       0.69      0.35      0.46       658\n",
      "\n",
      "    accuracy                           0.76      2250\n",
      "   macro avg       0.73      0.64      0.66      2250\n",
      "weighted avg       0.75      0.76      0.74      2250\n",
      "\n",
      "CONFUSION MATRIX\n",
      "\n",
      "col_0              0    1\n",
      "Credit Default           \n",
      "0               1490  102\n",
      "1                430  228\n",
      "Wall time: 229 ms\n"
     ]
    }
   ],
   "source": [
    "%%time\n",
    "\n",
    "model_lgbm = lgbm.LGBMClassifier(random_state = 42)\n",
    "model_lgbm.fit(X_cat_train, y_cat_train, categorical_feature = CAT_FEATURE_NAMES)\n",
    "\n",
    "y_cat_train_pred = model_lgbm.predict(X_cat_train)\n",
    "y_cat_valid_pred = model_lgbm.predict(X_cat_valid)\n",
    "\n",
    "get_classification_report(y_cat_train, y_cat_train_pred, y_cat_valid, y_cat_valid_pred)"
   ]
  },
  {
   "cell_type": "code",
   "execution_count": 55,
   "metadata": {},
   "outputs": [],
   "source": [
    "def show_proba_calibration_plots(y_predicted_probs, y_true_labels):\n",
    "    preds_with_true_labels = np.array(list(zip(y_predicted_probs, y_true_labels)))\n",
    "\n",
    "    thresholds = []\n",
    "    precisions = []\n",
    "    recalls = []\n",
    "    f1_scores = []\n",
    "\n",
    "    for threshold in np.linspace(0.1, 0.9, 9):\n",
    "        thresholds.append(threshold)\n",
    "        precisions.append(precision_score(y_true_labels, list(map(int, y_predicted_probs > threshold))))\n",
    "        recalls.append(recall_score(y_true_labels, list(map(int, y_predicted_probs > threshold))))\n",
    "        f1_scores.append(f1_score(y_true_labels, list(map(int, y_predicted_probs > threshold))))\n",
    "\n",
    "    scores_table = pd.DataFrame({'f1':f1_scores,\n",
    "                                 'precision':precisions,\n",
    "                                 'recall':recalls,\n",
    "                                 'probability':thresholds}).sort_values('f1', ascending=False).round(3)\n",
    "      \n",
    "    figure = plt.figure(figsize = (15, 5))\n",
    "\n",
    "    plt1 = figure.add_subplot(121)\n",
    "    plt1.axhline(0.5, color=\"red\")\n",
    "    plt1.plot(thresholds, precisions, label='Precision', linewidth=4)\n",
    "    plt1.plot(thresholds, recalls, label='Recall', linewidth=4)\n",
    "    plt1.plot(thresholds, f1_scores, label='F1', linewidth=4)\n",
    "    plt1.set_ylabel('Scores')\n",
    "    plt1.set_xlabel('Probability threshold')\n",
    "    plt1.set_title('Probabilities threshold calibration')\n",
    "    plt1.legend(bbox_to_anchor=(0.25, 0.25))   \n",
    "    plt1.table(cellText = scores_table.values,\n",
    "               colLabels = scores_table.columns, \n",
    "               colLoc = 'center', cellLoc = 'center', loc = 'bottom', bbox = [0, -1.3, 1, 1])\n",
    "\n",
    "    plt2 = figure.add_subplot(122)\n",
    "    plt2.hist(preds_with_true_labels[preds_with_true_labels[:, 1] == 0][:, 0], \n",
    "              label='Another class', color='royalblue', alpha=0.5)\n",
    "    plt2.hist(preds_with_true_labels[preds_with_true_labels[:, 1] == 1][:, 0], \n",
    "              label='Main class', color='darkcyan', alpha=0.8)\n",
    "    plt2.set_ylabel('Number of examples')\n",
    "    plt2.set_xlabel('Probabilities')\n",
    "    plt2.set_title('Probability histogram')\n",
    "    plt2.legend(bbox_to_anchor=(1, 1))\n",
    "\n",
    "    plt.show()"
   ]
  },
  {
   "cell_type": "code",
   "execution_count": 56,
   "metadata": {},
   "outputs": [
    {
     "data": {
      "image/png": "[encoded data removed]",
      "text/plain": [
       "<Figure size 1080x360 with 2 Axes>"
      ]
     },
     "metadata": {},
     "output_type": "display_data"
    }
   ],
   "source": [
    "y_cat_valid_pred_probs = model_lgbm.predict_proba(X_cat_valid)[:, 1]\n",
    "show_proba_calibration_plots(y_cat_valid_pred_probs, y_cat_valid)"
   ]
  },
  {
   "cell_type": "markdown",
   "metadata": {},
   "source": [
    "# MODEL TUNING"
   ]
  },
  {
   "cell_type": "markdown",
   "metadata": {},
   "source": [
    "## params explore"
   ]
  },
  {
   "cell_type": "code",
   "execution_count": 57,
   "metadata": {},
   "outputs": [],
   "source": [
    "def evaluate_model(model, X, y):\n",
    "    cv = RepeatedStratifiedKFold(n_splits = 10, n_repeats = 3, random_state = 42)\n",
    "    scores = cross_val_score(model, X, y, scoring = 'f1', cv = cv, n_jobs = -1)\n",
    "    return scores"
   ]
  },
  {
   "cell_type": "markdown",
   "metadata": {},
   "source": [
    "### boosting method"
   ]
  },
  {
   "cell_type": "code",
   "execution_count": 60,
   "metadata": {},
   "outputs": [],
   "source": [
    "def get_models_type():\n",
    "    models = dict()\n",
    "    types = ['gbdt', 'dart', 'goss']\n",
    "    for t in types:\n",
    "        models[t] = lgbm.LGBMClassifier(boosting_type = t, random_state = 42)\n",
    "    return models"
   ]
  },
  {
   "cell_type": "code",
   "execution_count": 61,
   "metadata": {},
   "outputs": [
    {
     "name": "stdout",
     "output_type": "stream",
     "text": [
      ">gbdt 0.447 (0.041)\n",
      ">dart 0.431 (0.040)\n",
      ">goss 0.478 (0.037)\n"
     ]
    }
   ],
   "source": [
    "models = get_models_type()\n",
    "results, names = list(), list()\n",
    "\n",
    "for name, model in models.items():\n",
    "    scores = evaluate_model(model, X_cat_train, y_cat_train)\n",
    "    results.append(scores)\n",
    "    names.append(name)\n",
    "    print('>%s %.3f (%.3f)' % (name, np.mean(scores), np.std(scores)))"
   ]
  },
  {
   "cell_type": "markdown",
   "metadata": {},
   "source": [
    "лучший результат у goss"
   ]
  },
  {
   "cell_type": "markdown",
   "metadata": {},
   "source": [
    "### n_estimators"
   ]
  },
  {
   "cell_type": "code",
   "execution_count": 62,
   "metadata": {},
   "outputs": [],
   "source": [
    "def get_models_estimators():\n",
    "    models = dict()\n",
    "    trees = [100, 250, 500, 750, 1000, 1500, 2000, 2500, 3000]\n",
    "    for n in trees:\n",
    "        models[str(n)] = lgbm.LGBMClassifier(n_estimators = n, boosting_type = 'goss', random_state = 42)\n",
    "    return models"
   ]
  },
  {
   "cell_type": "code",
   "execution_count": 63,
   "metadata": {},
   "outputs": [
    {
     "name": "stdout",
     "output_type": "stream",
     "text": [
      ">100 0.478 (0.037)\n",
      ">250 0.477 (0.037)\n",
      ">500 0.473 (0.040)\n",
      ">750 0.473 (0.038)\n",
      ">1000 0.471 (0.041)\n",
      ">1500 0.468 (0.039)\n",
      ">2000 0.467 (0.039)\n",
      ">2500 0.467 (0.038)\n",
      ">3000 0.464 (0.040)\n"
     ]
    }
   ],
   "source": [
    "models = get_models_estimators()\n",
    "results, names = list(), list()\n",
    "\n",
    "for name, model in models.items():\n",
    "    scores = evaluate_model(model, X_cat_train, y_cat_train)\n",
    "    results.append(scores)\n",
    "    names.append(name)\n",
    "    print('>%s %.3f (%.3f)' % (name, np.mean(scores), np.std(scores)))"
   ]
  },
  {
   "cell_type": "markdown",
   "metadata": {},
   "source": [
    "Количество деревьев будем искать в районе 100-500"
   ]
  },
  {
   "cell_type": "markdown",
   "metadata": {},
   "source": [
    "### max_depth"
   ]
  },
  {
   "cell_type": "code",
   "execution_count": 64,
   "metadata": {},
   "outputs": [],
   "source": [
    "def get_models_depth():\n",
    "    models = dict()\n",
    "    for i in range(5, 15):\n",
    "        models[str(i)] = lgbm.LGBMClassifier(max_depth = i, n_estimators = 100, boosting_type = 'goss', random_state = 42)\n",
    "    return models"
   ]
  },
  {
   "cell_type": "code",
   "execution_count": 65,
   "metadata": {},
   "outputs": [
    {
     "name": "stdout",
     "output_type": "stream",
     "text": [
      ">5 0.459 (0.038)\n",
      ">6 0.471 (0.034)\n",
      ">7 0.475 (0.038)\n",
      ">8 0.477 (0.045)\n",
      ">9 0.476 (0.035)\n",
      ">10 0.475 (0.038)\n",
      ">11 0.478 (0.034)\n",
      ">12 0.471 (0.041)\n",
      ">13 0.478 (0.039)\n",
      ">14 0.473 (0.037)\n"
     ]
    }
   ],
   "source": [
    "models = get_models_depth()\n",
    "results, names = list(), list()\n",
    "\n",
    "for name, model in models.items():\n",
    "    scores = evaluate_model(model, X_cat_train, y_cat_train)\n",
    "    results.append(scores)\n",
    "    names.append(name)\n",
    "    print('>%s %.3f (%.3f)' % (name, np.mean(scores), np.std(scores)))"
   ]
  },
  {
   "cell_type": "markdown",
   "metadata": {},
   "source": [
    "Глубину дерева будем искать в промежутке от 8 до 15"
   ]
  },
  {
   "cell_type": "markdown",
   "metadata": {},
   "source": [
    "### learning rate"
   ]
  },
  {
   "cell_type": "code",
   "execution_count": 66,
   "metadata": {},
   "outputs": [],
   "source": [
    "def get_models_rate():\n",
    "    models = dict()\n",
    "    rates = [0.0001, 0.001, 0.01, 0.075, 0.1, 0.15, 0.5, 1.0]\n",
    "    for r in rates:\n",
    "        models[str(r)] = lgbm.LGBMClassifier(learning_rate = r, max_depth = 11, n_estimators = 100, boosting_type = 'goss', random_state = 42)\n",
    "    return models"
   ]
  },
  {
   "cell_type": "code",
   "execution_count": 67,
   "metadata": {},
   "outputs": [
    {
     "name": "stdout",
     "output_type": "stream",
     "text": [
      ">0.0001 0.000 (0.000)\n",
      ">0.001 0.000 (0.000)\n",
      ">0.01 0.332 (0.043)\n",
      ">0.075 0.475 (0.037)\n",
      ">0.1 0.478 (0.034)\n",
      ">0.15 0.470 (0.040)\n",
      ">0.5 0.455 (0.050)\n",
      ">1.0 0.333 (0.092)\n"
     ]
    }
   ],
   "source": [
    "models = get_models_rate()\n",
    "results, names = list(), list()\n",
    "\n",
    "for name, model in models.items():\n",
    "    scores = evaluate_model(model, X_cat_train, y_cat_train)\n",
    "    results.append(scores)\n",
    "    names.append(name)\n",
    "    print('>%s %.3f (%.3f)' % (name, np.mean(scores), np.std(scores)))"
   ]
  },
  {
   "cell_type": "markdown",
   "metadata": {},
   "source": [
    "default learning rate 0.1"
   ]
  },
  {
   "cell_type": "markdown",
   "metadata": {},
   "source": [
    "## Cross validation"
   ]
  },
  {
   "cell_type": "code",
   "execution_count": 68,
   "metadata": {},
   "outputs": [],
   "source": [
    "model_lgbm = lgbm.LGBMClassifier(random_state = 42, boosting_type = 'goss')"
   ]
  },
  {
   "cell_type": "code",
   "execution_count": 69,
   "metadata": {},
   "outputs": [],
   "source": [
    "params = {\n",
    "    'max_depth': [8, 9, 10, 11, 12, 13, 14, 15],\n",
    "    'n_estimators': [50, 100, 200, 300, 400, 500]\n",
    "}"
   ]
  },
  {
   "cell_type": "code",
   "execution_count": 70,
   "metadata": {},
   "outputs": [],
   "source": [
    "cv = RepeatedStratifiedKFold(n_splits = 5, n_repeats = 5, random_state = 42)\n",
    "grid_cv = GridSearchCV(model_lgbm, params, n_jobs = -1, scoring = 'f1', cv = cv, verbose = 10)"
   ]
  },
  {
   "cell_type": "code",
   "execution_count": 71,
   "metadata": {},
   "outputs": [
    {
     "name": "stdout",
     "output_type": "stream",
     "text": [
      "Fitting 25 folds for each of 48 candidates, totalling 1200 fits\n"
     ]
    },
    {
     "name": "stderr",
     "output_type": "stream",
     "text": [
      "[Parallel(n_jobs=-1)]: Using backend LokyBackend with 12 concurrent workers.\n",
      "[Parallel(n_jobs=-1)]: Done   1 tasks      | elapsed:    0.3s\n",
      "[Parallel(n_jobs=-1)]: Done   8 tasks      | elapsed:    0.4s\n",
      "[Parallel(n_jobs=-1)]: Done  17 tasks      | elapsed:    0.8s\n",
      "[Parallel(n_jobs=-1)]: Done  26 tasks      | elapsed:    1.5s\n",
      "[Parallel(n_jobs=-1)]: Done  37 tasks      | elapsed:    1.9s\n",
      "[Parallel(n_jobs=-1)]: Done  48 tasks      | elapsed:    2.5s\n",
      "[Parallel(n_jobs=-1)]: Done  61 tasks      | elapsed:    4.0s\n",
      "[Parallel(n_jobs=-1)]: Done  74 tasks      | elapsed:    5.6s\n",
      "[Parallel(n_jobs=-1)]: Done  89 tasks      | elapsed:    8.1s\n",
      "[Parallel(n_jobs=-1)]: Done 104 tasks      | elapsed:   10.3s\n",
      "[Parallel(n_jobs=-1)]: Done 121 tasks      | elapsed:   12.5s\n",
      "[Parallel(n_jobs=-1)]: Done 138 tasks      | elapsed:   17.5s\n",
      "[Parallel(n_jobs=-1)]: Done 157 tasks      | elapsed:   18.4s\n",
      "[Parallel(n_jobs=-1)]: Done 176 tasks      | elapsed:   19.3s\n",
      "[Parallel(n_jobs=-1)]: Done 197 tasks      | elapsed:   20.4s\n",
      "[Parallel(n_jobs=-1)]: Done 218 tasks      | elapsed:   22.3s\n",
      "[Parallel(n_jobs=-1)]: Done 241 tasks      | elapsed:   25.7s\n",
      "[Parallel(n_jobs=-1)]: Done 264 tasks      | elapsed:   30.2s\n",
      "[Parallel(n_jobs=-1)]: Done 289 tasks      | elapsed:   36.0s\n",
      "[Parallel(n_jobs=-1)]: Done 314 tasks      | elapsed:   37.1s\n",
      "[Parallel(n_jobs=-1)]: Done 341 tasks      | elapsed:   38.7s\n",
      "[Parallel(n_jobs=-1)]: Done 368 tasks      | elapsed:   41.1s\n",
      "[Parallel(n_jobs=-1)]: Done 397 tasks      | elapsed:   44.8s\n",
      "[Parallel(n_jobs=-1)]: Done 426 tasks      | elapsed:   52.1s\n",
      "[Parallel(n_jobs=-1)]: Done 457 tasks      | elapsed:   56.0s\n",
      "[Parallel(n_jobs=-1)]: Done 488 tasks      | elapsed:   57.7s\n",
      "[Parallel(n_jobs=-1)]: Done 521 tasks      | elapsed:  1.0min\n",
      "[Parallel(n_jobs=-1)]: Done 554 tasks      | elapsed:  1.1min\n",
      "[Parallel(n_jobs=-1)]: Done 589 tasks      | elapsed:  1.2min\n",
      "[Parallel(n_jobs=-1)]: Done 624 tasks      | elapsed:  1.3min\n",
      "[Parallel(n_jobs=-1)]: Done 661 tasks      | elapsed:  1.3min\n",
      "[Parallel(n_jobs=-1)]: Done 698 tasks      | elapsed:  1.4min\n",
      "[Parallel(n_jobs=-1)]: Done 737 tasks      | elapsed:  1.6min\n",
      "[Parallel(n_jobs=-1)]: Done 776 tasks      | elapsed:  1.6min\n",
      "[Parallel(n_jobs=-1)]: Done 817 tasks      | elapsed:  1.7min\n",
      "[Parallel(n_jobs=-1)]: Done 858 tasks      | elapsed:  1.8min\n",
      "[Parallel(n_jobs=-1)]: Done 901 tasks      | elapsed:  1.9min\n",
      "[Parallel(n_jobs=-1)]: Done 944 tasks      | elapsed:  2.0min\n",
      "[Parallel(n_jobs=-1)]: Done 989 tasks      | elapsed:  2.1min\n",
      "[Parallel(n_jobs=-1)]: Done 1034 tasks      | elapsed:  2.2min\n",
      "[Parallel(n_jobs=-1)]: Done 1081 tasks      | elapsed:  2.3min\n",
      "[Parallel(n_jobs=-1)]: Done 1128 tasks      | elapsed:  2.4min\n",
      "[Parallel(n_jobs=-1)]: Done 1177 tasks      | elapsed:  2.6min\n",
      "[Parallel(n_jobs=-1)]: Done 1200 out of 1200 | elapsed:  2.6min finished\n",
      "C:\\Users\\snetkova\\Anaconda3\\lib\\site-packages\\lightgbm\\basic.py:1247: UserWarning: categorical_feature in Dataset is overridden.\n",
      "New categorical_feature is ['Home Ownership', 'Purpose', 'Term']\n",
      "  'New categorical_feature is {}'.format(sorted(list(categorical_feature))))\n"
     ]
    },
    {
     "name": "stdout",
     "output_type": "stream",
     "text": [
      "[1]\tvalid_0's binary_logloss: 0.582436\n",
      "[2]\tvalid_0's binary_logloss: 0.564772\n",
      "[3]\tvalid_0's binary_logloss: 0.550946\n",
      "[4]\tvalid_0's binary_logloss: 0.540397\n",
      "[5]\tvalid_0's binary_logloss: 0.531737\n",
      "[6]\tvalid_0's binary_logloss: 0.523571\n",
      "[7]\tvalid_0's binary_logloss: 0.517461\n",
      "[8]\tvalid_0's binary_logloss: 0.511796\n",
      "[9]\tvalid_0's binary_logloss: 0.507134\n",
      "[10]\tvalid_0's binary_logloss: 0.503416\n",
      "[11]\tvalid_0's binary_logloss: 0.499352\n",
      "[12]\tvalid_0's binary_logloss: 0.496955\n",
      "[13]\tvalid_0's binary_logloss: 0.49363\n",
      "[14]\tvalid_0's binary_logloss: 0.491476\n",
      "[15]\tvalid_0's binary_logloss: 0.489881\n",
      "[16]\tvalid_0's binary_logloss: 0.488626\n",
      "[17]\tvalid_0's binary_logloss: 0.487828\n",
      "[18]\tvalid_0's binary_logloss: 0.485909\n",
      "[19]\tvalid_0's binary_logloss: 0.484568\n",
      "[20]\tvalid_0's binary_logloss: 0.483885\n",
      "[21]\tvalid_0's binary_logloss: 0.48375\n",
      "[22]\tvalid_0's binary_logloss: 0.484495\n",
      "[23]\tvalid_0's binary_logloss: 0.483587\n",
      "[24]\tvalid_0's binary_logloss: 0.483331\n",
      "[25]\tvalid_0's binary_logloss: 0.483379\n",
      "[26]\tvalid_0's binary_logloss: 0.483271\n",
      "[27]\tvalid_0's binary_logloss: 0.482505\n",
      "[28]\tvalid_0's binary_logloss: 0.4826\n",
      "[29]\tvalid_0's binary_logloss: 0.481791\n",
      "[30]\tvalid_0's binary_logloss: 0.480882\n",
      "[31]\tvalid_0's binary_logloss: 0.481676\n",
      "[32]\tvalid_0's binary_logloss: 0.481848\n",
      "[33]\tvalid_0's binary_logloss: 0.481873\n",
      "[34]\tvalid_0's binary_logloss: 0.482671\n",
      "[35]\tvalid_0's binary_logloss: 0.482676\n",
      "[36]\tvalid_0's binary_logloss: 0.482489\n",
      "[37]\tvalid_0's binary_logloss: 0.482982\n",
      "[38]\tvalid_0's binary_logloss: 0.483143\n",
      "[39]\tvalid_0's binary_logloss: 0.484032\n",
      "[40]\tvalid_0's binary_logloss: 0.484378\n",
      "[41]\tvalid_0's binary_logloss: 0.485839\n",
      "[42]\tvalid_0's binary_logloss: 0.486239\n",
      "[43]\tvalid_0's binary_logloss: 0.486742\n",
      "[44]\tvalid_0's binary_logloss: 0.487347\n",
      "[45]\tvalid_0's binary_logloss: 0.489384\n",
      "[46]\tvalid_0's binary_logloss: 0.489347\n",
      "[47]\tvalid_0's binary_logloss: 0.489047\n",
      "[48]\tvalid_0's binary_logloss: 0.488742\n",
      "[49]\tvalid_0's binary_logloss: 0.490443\n",
      "[50]\tvalid_0's binary_logloss: 0.490533\n",
      "[51]\tvalid_0's binary_logloss: 0.490751\n",
      "[52]\tvalid_0's binary_logloss: 0.491909\n",
      "[53]\tvalid_0's binary_logloss: 0.492736\n",
      "[54]\tvalid_0's binary_logloss: 0.493314\n",
      "[55]\tvalid_0's binary_logloss: 0.492807\n",
      "[56]\tvalid_0's binary_logloss: 0.492067\n",
      "[57]\tvalid_0's binary_logloss: 0.492488\n",
      "[58]\tvalid_0's binary_logloss: 0.492069\n",
      "[59]\tvalid_0's binary_logloss: 0.492212\n",
      "[60]\tvalid_0's binary_logloss: 0.492131\n",
      "[61]\tvalid_0's binary_logloss: 0.49317\n",
      "[62]\tvalid_0's binary_logloss: 0.494053\n",
      "[63]\tvalid_0's binary_logloss: 0.493664\n",
      "[64]\tvalid_0's binary_logloss: 0.494925\n",
      "[65]\tvalid_0's binary_logloss: 0.494303\n",
      "[66]\tvalid_0's binary_logloss: 0.493302\n",
      "[67]\tvalid_0's binary_logloss: 0.493894\n",
      "[68]\tvalid_0's binary_logloss: 0.493871\n",
      "[69]\tvalid_0's binary_logloss: 0.494697\n",
      "[70]\tvalid_0's binary_logloss: 0.495619\n",
      "[71]\tvalid_0's binary_logloss: 0.496797\n",
      "[72]\tvalid_0's binary_logloss: 0.497463\n",
      "[73]\tvalid_0's binary_logloss: 0.497914\n",
      "[74]\tvalid_0's binary_logloss: 0.498767\n",
      "[75]\tvalid_0's binary_logloss: 0.499251\n",
      "[76]\tvalid_0's binary_logloss: 0.500091\n",
      "[77]\tvalid_0's binary_logloss: 0.500978\n",
      "[78]\tvalid_0's binary_logloss: 0.502277\n",
      "[79]\tvalid_0's binary_logloss: 0.502936\n",
      "[80]\tvalid_0's binary_logloss: 0.501716\n",
      "[81]\tvalid_0's binary_logloss: 0.503386\n",
      "[82]\tvalid_0's binary_logloss: 0.504289\n",
      "[83]\tvalid_0's binary_logloss: 0.505178\n",
      "[84]\tvalid_0's binary_logloss: 0.505673\n",
      "[85]\tvalid_0's binary_logloss: 0.506775\n",
      "[86]\tvalid_0's binary_logloss: 0.508101\n",
      "[87]\tvalid_0's binary_logloss: 0.508405\n",
      "[88]\tvalid_0's binary_logloss: 0.508202\n",
      "[89]\tvalid_0's binary_logloss: 0.508298\n",
      "[90]\tvalid_0's binary_logloss: 0.50827\n",
      "[91]\tvalid_0's binary_logloss: 0.508653\n",
      "[92]\tvalid_0's binary_logloss: 0.509691\n",
      "[93]\tvalid_0's binary_logloss: 0.511177\n",
      "[94]\tvalid_0's binary_logloss: 0.512902\n",
      "[95]\tvalid_0's binary_logloss: 0.513062\n",
      "[96]\tvalid_0's binary_logloss: 0.513601\n",
      "[97]\tvalid_0's binary_logloss: 0.513252\n",
      "[98]\tvalid_0's binary_logloss: 0.513489\n",
      "[99]\tvalid_0's binary_logloss: 0.514362\n",
      "[100]\tvalid_0's binary_logloss: 0.514322\n",
      "Wall time: 2min 39s\n"
     ]
    },
    {
     "data": {
      "text/plain": [
       "GridSearchCV(cv=RepeatedStratifiedKFold(n_repeats=5, n_splits=5, random_state=42),\n",
       "             estimator=LGBMClassifier(boosting_type='goss', random_state=42),\n",
       "             n_jobs=-1,\n",
       "             param_grid={'max_depth': [8, 9, 10, 11, 12, 13, 14, 15],\n",
       "                         'n_estimators': [50, 100, 200, 300, 400, 500]},\n",
       "             scoring='f1', verbose=10)"
      ]
     },
     "execution_count": 71,
     "metadata": {},
     "output_type": "execute_result"
    }
   ],
   "source": [
    "%%time\n",
    "grid_cv.fit(X = X_cat_train, y = y_cat_train, eval_set = (X_cat_valid, y_cat_valid), categorical_feature = CAT_FEATURE_NAMES)"
   ]
  },
  {
   "cell_type": "code",
   "execution_count": 72,
   "metadata": {},
   "outputs": [
    {
     "data": {
      "text/plain": [
       "{'max_depth': 14, 'n_estimators': 100}"
      ]
     },
     "execution_count": 72,
     "metadata": {},
     "output_type": "execute_result"
    }
   ],
   "source": [
    "grid_cv.best_params_"
   ]
  },
  {
   "cell_type": "code",
   "execution_count": 73,
   "metadata": {},
   "outputs": [
    {
     "data": {
      "text/plain": [
       "0.4765860375079503"
      ]
     },
     "execution_count": 73,
     "metadata": {},
     "output_type": "execute_result"
    }
   ],
   "source": [
    "grid_cv.best_score_"
   ]
  },
  {
   "cell_type": "markdown",
   "metadata": {},
   "source": [
    "### model"
   ]
  },
  {
   "cell_type": "code",
   "execution_count": 74,
   "metadata": {},
   "outputs": [
    {
     "name": "stderr",
     "output_type": "stream",
     "text": [
      "C:\\Users\\snetkova\\Anaconda3\\lib\\site-packages\\lightgbm\\basic.py:1247: UserWarning: categorical_feature in Dataset is overridden.\n",
      "New categorical_feature is ['Home Ownership', 'Purpose', 'Term']\n",
      "  'New categorical_feature is {}'.format(sorted(list(categorical_feature))))\n"
     ]
    },
    {
     "name": "stdout",
     "output_type": "stream",
     "text": [
      "TRAIN\n",
      "\n",
      "              precision    recall  f1-score   support\n",
      "\n",
      "           0       0.91      0.99      0.95      3795\n",
      "           1       0.95      0.75      0.84      1455\n",
      "\n",
      "    accuracy                           0.92      5250\n",
      "   macro avg       0.93      0.87      0.89      5250\n",
      "weighted avg       0.92      0.92      0.92      5250\n",
      "\n",
      "TEST\n",
      "\n",
      "              precision    recall  f1-score   support\n",
      "\n",
      "           0       0.79      0.89      0.83      1592\n",
      "           1       0.61      0.42      0.50       658\n",
      "\n",
      "    accuracy                           0.75      2250\n",
      "   macro avg       0.70      0.66      0.67      2250\n",
      "weighted avg       0.74      0.75      0.74      2250\n",
      "\n",
      "CONFUSION MATRIX\n",
      "\n",
      "col_0              0    1\n",
      "Credit Default           \n",
      "0               1411  181\n",
      "1                379  279\n"
     ]
    }
   ],
   "source": [
    "model_lgbm = lgbm.LGBMClassifier(max_depth = 14, n_estimators = 100, boosting_type = 'goss', random_state = 42)\n",
    "model_lgbm.fit(X_cat_train, y_cat_train, categorical_feature = CAT_FEATURE_NAMES)\n",
    "\n",
    "y_cat_train_pred = model_lgbm.predict(X_cat_train)\n",
    "y_cat_valid_pred = model_lgbm.predict(X_cat_valid)\n",
    "\n",
    "get_classification_report(y_cat_train, y_cat_train_pred, y_cat_valid, y_cat_valid_pred)"
   ]
  },
  {
   "cell_type": "markdown",
   "metadata": {},
   "source": [
    "Модель получилась переобучена, пробуем подобрать num_leaves"
   ]
  },
  {
   "cell_type": "markdown",
   "metadata": {},
   "source": [
    "### num_leaves"
   ]
  },
  {
   "cell_type": "code",
   "execution_count": 79,
   "metadata": {},
   "outputs": [],
   "source": [
    "def get_models_leaf():\n",
    "    models = dict()\n",
    "    for n in [2 ** 3, 2 ** 4, 2 ** 5, 2 ** 6, 2 ** 7, 2 ** 8, 2 ** 9, 2 ** 10, 2 ** 11, 2 ** 12, 2 **13, 2 ** 14]:\n",
    "        models[str(n)] = lgbm.LGBMClassifier(num_leaves = n, max_depth = 14, n_estimators = 100, boosting_type = 'goss', random_state = 42)\n",
    "    return models"
   ]
  },
  {
   "cell_type": "code",
   "execution_count": 80,
   "metadata": {},
   "outputs": [
    {
     "name": "stdout",
     "output_type": "stream",
     "text": [
      ">8 0.464 (0.036)\n",
      ">16 0.475 (0.041)\n",
      ">32 0.471 (0.038)\n",
      ">64 0.470 (0.042)\n",
      ">128 0.470 (0.048)\n",
      ">256 0.472 (0.040)\n",
      ">512 0.472 (0.040)\n",
      ">1024 0.472 (0.040)\n",
      ">2048 0.472 (0.040)\n",
      ">4096 0.472 (0.040)\n",
      ">8192 0.472 (0.040)\n",
      ">16384 0.472 (0.040)\n"
     ]
    }
   ],
   "source": [
    "models = get_models_leaf()\n",
    "results, names = list(), list()\n",
    "\n",
    "for name, model in models.items():\n",
    "    scores = evaluate_model(model, X_cat_train, y_cat_train)\n",
    "    results.append(scores)\n",
    "    names.append(name)\n",
    "    print('>%s %.3f (%.3f)' % (name, np.mean(scores), np.std(scores)))"
   ]
  },
  {
   "cell_type": "code",
   "execution_count": 81,
   "metadata": {},
   "outputs": [
    {
     "name": "stderr",
     "output_type": "stream",
     "text": [
      "C:\\Users\\snetkova\\Anaconda3\\lib\\site-packages\\lightgbm\\basic.py:1247: UserWarning: categorical_feature in Dataset is overridden.\n",
      "New categorical_feature is ['Home Ownership', 'Purpose', 'Term']\n",
      "  'New categorical_feature is {}'.format(sorted(list(categorical_feature))))\n"
     ]
    },
    {
     "name": "stdout",
     "output_type": "stream",
     "text": [
      "TRAIN\n",
      "\n",
      "              precision    recall  f1-score   support\n",
      "\n",
      "           0       0.85      0.97      0.90      3795\n",
      "           1       0.86      0.55      0.67      1455\n",
      "\n",
      "    accuracy                           0.85      5250\n",
      "   macro avg       0.86      0.76      0.79      5250\n",
      "weighted avg       0.85      0.85      0.84      5250\n",
      "\n",
      "TEST\n",
      "\n",
      "              precision    recall  f1-score   support\n",
      "\n",
      "           0       0.78      0.91      0.84      1592\n",
      "           1       0.65      0.39      0.49       658\n",
      "\n",
      "    accuracy                           0.76      2250\n",
      "   macro avg       0.71      0.65      0.66      2250\n",
      "weighted avg       0.74      0.76      0.74      2250\n",
      "\n",
      "CONFUSION MATRIX\n",
      "\n",
      "col_0              0    1\n",
      "Credit Default           \n",
      "0               1451  141\n",
      "1                401  257\n"
     ]
    }
   ],
   "source": [
    "model_lgbm = lgbm.LGBMClassifier(num_leaves = 16, max_depth = 14, n_estimators = 100, boosting_type = 'goss', random_state = 42)\n",
    "model_lgbm.fit(X_cat_train, y_cat_train, categorical_feature = CAT_FEATURE_NAMES)\n",
    "\n",
    "y_cat_train_pred = model_lgbm.predict(X_cat_train)\n",
    "y_cat_valid_pred = model_lgbm.predict(X_cat_valid)\n",
    "\n",
    "get_classification_report(y_cat_train, y_cat_train_pred, y_cat_valid, y_cat_valid_pred)"
   ]
  },
  {
   "cell_type": "markdown",
   "metadata": {},
   "source": [
    "#### regularization"
   ]
  },
  {
   "cell_type": "code",
   "execution_count": 82,
   "metadata": {},
   "outputs": [],
   "source": [
    "def get_models_l1():\n",
    "    models = dict()\n",
    "    for alpha in range(-2, 5):\n",
    "        models[str(alpha)] = lgbm.LGBMClassifier(reg_alpha = 10 ** alpha, num_leaves = 16, max_depth = 14, n_estimators = 100, boosting_type = 'goss', random_state = 42)\n",
    "    return models"
   ]
  },
  {
   "cell_type": "code",
   "execution_count": 83,
   "metadata": {},
   "outputs": [
    {
     "name": "stdout",
     "output_type": "stream",
     "text": [
      ">-2 0.471 (0.038)\n",
      ">-1 0.473 (0.038)\n",
      ">0 0.476 (0.041)\n",
      ">1 0.458 (0.035)\n",
      ">2 0.310 (0.042)\n",
      ">3 0.000 (0.000)\n",
      ">4 0.000 (0.000)\n"
     ]
    }
   ],
   "source": [
    "models = get_models_l1()\n",
    "results, names = list(), list()\n",
    "\n",
    "for name, model in models.items():\n",
    "    scores = evaluate_model(model, X_cat_train, y_cat_train)\n",
    "    results.append(scores)\n",
    "    names.append(name)\n",
    "    print('>%s %.3f (%.3f)' % (name, np.mean(scores), np.std(scores)))"
   ]
  },
  {
   "cell_type": "code",
   "execution_count": 84,
   "metadata": {},
   "outputs": [],
   "source": [
    "def get_models_l2():\n",
    "    models = dict()\n",
    "    for lamb in range(-5, 5):\n",
    "        models[str(lamb)] = lgbm.LGBMClassifier(reg_lambda = 10 ** lamb, num_leaves = 16, max_depth = 14, n_estimators = 100, boosting_type = 'goss', random_state = 42)\n",
    "    return models"
   ]
  },
  {
   "cell_type": "code",
   "execution_count": 85,
   "metadata": {},
   "outputs": [
    {
     "name": "stdout",
     "output_type": "stream",
     "text": [
      ">-5 0.474 (0.040)\n",
      ">-4 0.473 (0.043)\n",
      ">-3 0.470 (0.033)\n",
      ">-2 0.472 (0.035)\n",
      ">-1 0.467 (0.042)\n",
      ">0 0.475 (0.033)\n",
      ">1 0.465 (0.036)\n",
      ">2 0.442 (0.036)\n",
      ">3 0.292 (0.046)\n",
      ">4 0.000 (0.000)\n"
     ]
    }
   ],
   "source": [
    "models = get_models_l2()\n",
    "results, names = list(), list()\n",
    "\n",
    "for name, model in models.items():\n",
    "    scores = evaluate_model(model, X_cat_train, y_cat_train)\n",
    "    results.append(scores)\n",
    "    names.append(name)\n",
    "    print('>%s %.3f (%.3f)' % (name, np.mean(scores), np.std(scores)))"
   ]
  },
  {
   "cell_type": "markdown",
   "metadata": {},
   "source": [
    "### FINAL MODEL"
   ]
  },
  {
   "cell_type": "code",
   "execution_count": 88,
   "metadata": {},
   "outputs": [
    {
     "name": "stdout",
     "output_type": "stream",
     "text": [
      "TRAIN\n",
      "\n",
      "              precision    recall  f1-score   support\n",
      "\n",
      "           0       0.85      0.97      0.91      3795\n",
      "           1       0.88      0.56      0.68      1455\n",
      "\n",
      "    accuracy                           0.86      5250\n",
      "   macro avg       0.86      0.76      0.79      5250\n",
      "weighted avg       0.86      0.86      0.84      5250\n",
      "\n",
      "TEST\n",
      "\n",
      "              precision    recall  f1-score   support\n",
      "\n",
      "           0       0.78      0.92      0.84      1592\n",
      "           1       0.65      0.38      0.48       658\n",
      "\n",
      "    accuracy                           0.76      2250\n",
      "   macro avg       0.72      0.65      0.66      2250\n",
      "weighted avg       0.74      0.76      0.74      2250\n",
      "\n",
      "CONFUSION MATRIX\n",
      "\n",
      "col_0              0    1\n",
      "Credit Default           \n",
      "0               1457  135\n",
      "1                406  252\n"
     ]
    },
    {
     "name": "stderr",
     "output_type": "stream",
     "text": [
      "C:\\Users\\snetkova\\Anaconda3\\lib\\site-packages\\lightgbm\\basic.py:1247: UserWarning: categorical_feature in Dataset is overridden.\n",
      "New categorical_feature is ['Home Ownership', 'Purpose', 'Term']\n",
      "  'New categorical_feature is {}'.format(sorted(list(categorical_feature))))\n"
     ]
    }
   ],
   "source": [
    "model_lgbm = lgbm.LGBMClassifier(reg_alpha = 1, num_leaves = 16, max_depth = 14, n_estimators = 100, boosting_type = 'goss', random_state = 42)\n",
    "model_lgbm.fit(X_cat_train, y_cat_train, categorical_feature = CAT_FEATURE_NAMES)\n",
    "\n",
    "y_cat_train_pred = model_lgbm.predict(X_cat_train)\n",
    "y_cat_valid_pred = model_lgbm.predict(X_cat_valid)\n",
    "\n",
    "get_classification_report(y_cat_train, y_cat_train_pred, y_cat_valid, y_cat_valid_pred)"
   ]
  },
  {
   "cell_type": "code",
   "execution_count": 89,
   "metadata": {},
   "outputs": [
    {
     "data": {
      "image/png": "[encoded data removed]",
      "text/plain": [
       "<Figure size 1080x360 with 2 Axes>"
      ]
     },
     "metadata": {},
     "output_type": "display_data"
    }
   ],
   "source": [
    "y_cat_valid_pred_probs = model_lgbm.predict_proba(X_cat_valid)[:, 1]\n",
    "show_proba_calibration_plots(y_cat_valid_pred_probs, y_cat_valid)"
   ]
  },
  {
   "cell_type": "code",
   "execution_count": 90,
   "metadata": {},
   "outputs": [
    {
     "data": {
      "text/html": [
       "<div>\n",
       "<style scoped>\n",
       "    .dataframe tbody tr th:only-of-type {\n",
       "        vertical-align: middle;\n",
       "    }\n",
       "\n",
       "    .dataframe tbody tr th {\n",
       "        vertical-align: top;\n",
       "    }\n",
       "\n",
       "    .dataframe thead th {\n",
       "        text-align: right;\n",
       "    }\n",
       "</style>\n",
       "<table border=\"1\" class=\"dataframe\">\n",
       "  <thead>\n",
       "    <tr style=\"text-align: right;\">\n",
       "      <th></th>\n",
       "      <th>0</th>\n",
       "      <th>1</th>\n",
       "    </tr>\n",
       "  </thead>\n",
       "  <tbody>\n",
       "    <tr>\n",
       "      <th>0</th>\n",
       "      <td>158</td>\n",
       "      <td>Annual Income</td>\n",
       "    </tr>\n",
       "    <tr>\n",
       "      <th>1</th>\n",
       "      <td>73</td>\n",
       "      <td>Years in current job</td>\n",
       "    </tr>\n",
       "    <tr>\n",
       "      <th>2</th>\n",
       "      <td>3</td>\n",
       "      <td>Tax Liens</td>\n",
       "    </tr>\n",
       "    <tr>\n",
       "      <th>3</th>\n",
       "      <td>84</td>\n",
       "      <td>Number of Open Accounts</td>\n",
       "    </tr>\n",
       "    <tr>\n",
       "      <th>4</th>\n",
       "      <td>152</td>\n",
       "      <td>Years of Credit History</td>\n",
       "    </tr>\n",
       "    <tr>\n",
       "      <th>5</th>\n",
       "      <td>152</td>\n",
       "      <td>Maximum Open Credit</td>\n",
       "    </tr>\n",
       "    <tr>\n",
       "      <th>6</th>\n",
       "      <td>13</td>\n",
       "      <td>Number of Credit Problems</td>\n",
       "    </tr>\n",
       "    <tr>\n",
       "      <th>7</th>\n",
       "      <td>95</td>\n",
       "      <td>Months since last delinquent</td>\n",
       "    </tr>\n",
       "    <tr>\n",
       "      <th>8</th>\n",
       "      <td>5</td>\n",
       "      <td>Bankruptcies</td>\n",
       "    </tr>\n",
       "    <tr>\n",
       "      <th>9</th>\n",
       "      <td>194</td>\n",
       "      <td>Current Loan Amount</td>\n",
       "    </tr>\n",
       "    <tr>\n",
       "      <th>10</th>\n",
       "      <td>135</td>\n",
       "      <td>Current Credit Balance</td>\n",
       "    </tr>\n",
       "    <tr>\n",
       "      <th>11</th>\n",
       "      <td>139</td>\n",
       "      <td>Monthly Debt</td>\n",
       "    </tr>\n",
       "    <tr>\n",
       "      <th>12</th>\n",
       "      <td>230</td>\n",
       "      <td>Credit Score</td>\n",
       "    </tr>\n",
       "    <tr>\n",
       "      <th>13</th>\n",
       "      <td>33</td>\n",
       "      <td>Home Ownership</td>\n",
       "    </tr>\n",
       "    <tr>\n",
       "      <th>14</th>\n",
       "      <td>11</td>\n",
       "      <td>Purpose</td>\n",
       "    </tr>\n",
       "    <tr>\n",
       "      <th>15</th>\n",
       "      <td>23</td>\n",
       "      <td>Term</td>\n",
       "    </tr>\n",
       "  </tbody>\n",
       "</table>\n",
       "</div>"
      ],
      "text/plain": [
       "      0                             1\n",
       "0   158                 Annual Income\n",
       "1    73          Years in current job\n",
       "2     3                     Tax Liens\n",
       "3    84       Number of Open Accounts\n",
       "4   152       Years of Credit History\n",
       "5   152           Maximum Open Credit\n",
       "6    13     Number of Credit Problems\n",
       "7    95  Months since last delinquent\n",
       "8     5                  Bankruptcies\n",
       "9   194           Current Loan Amount\n",
       "10  135        Current Credit Balance\n",
       "11  139                  Monthly Debt\n",
       "12  230                  Credit Score\n",
       "13   33                Home Ownership\n",
       "14   11                       Purpose\n",
       "15   23                          Term"
      ]
     },
     "execution_count": 90,
     "metadata": {},
     "output_type": "execute_result"
    }
   ],
   "source": [
    "pd.concat([pd.Series(model_lgbm.feature_importances_), pd.Series(X_cat_train.columns)], axis = 1)"
   ]
  },
  {
   "cell_type": "code",
   "execution_count": 91,
   "metadata": {},
   "outputs": [
    {
     "data": {
      "text/plain": [
       "array([0.99290755, 0.11514097, 0.32217997, ..., 0.09013838, 0.991092  ,\n",
       "       0.00760901])"
      ]
     },
     "execution_count": 91,
     "metadata": {},
     "output_type": "execute_result"
    }
   ],
   "source": [
    "y_cat_valid_pred_probs"
   ]
  },
  {
   "cell_type": "code",
   "execution_count": 92,
   "metadata": {},
   "outputs": [],
   "source": [
    "y_valid_pred = (y_cat_valid_pred_probs >= 0.375).astype('int')"
   ]
  },
  {
   "cell_type": "code",
   "execution_count": 93,
   "metadata": {},
   "outputs": [
    {
     "data": {
      "text/plain": [
       "0    0.716\n",
       "1    0.284\n",
       "dtype: float64"
      ]
     },
     "execution_count": 93,
     "metadata": {},
     "output_type": "execute_result"
    }
   ],
   "source": [
    "pd.Series(y_valid_pred).value_counts(normalize=True)"
   ]
  },
  {
   "cell_type": "code",
   "execution_count": 94,
   "metadata": {},
   "outputs": [
    {
     "name": "stdout",
     "output_type": "stream",
     "text": [
      "TRAIN\n",
      "\n",
      "              precision    recall  f1-score   support\n",
      "\n",
      "           0       0.85      0.97      0.91      3795\n",
      "           1       0.88      0.56      0.68      1455\n",
      "\n",
      "    accuracy                           0.86      5250\n",
      "   macro avg       0.86      0.76      0.79      5250\n",
      "weighted avg       0.86      0.86      0.84      5250\n",
      "\n",
      "TEST\n",
      "\n",
      "              precision    recall  f1-score   support\n",
      "\n",
      "           0       0.81      0.82      0.81      1592\n",
      "           1       0.54      0.53      0.54       658\n",
      "\n",
      "    accuracy                           0.73      2250\n",
      "   macro avg       0.67      0.67      0.67      2250\n",
      "weighted avg       0.73      0.73      0.73      2250\n",
      "\n",
      "CONFUSION MATRIX\n",
      "\n",
      "col_0              0    1\n",
      "Credit Default           \n",
      "0               1300  292\n",
      "1                311  347\n"
     ]
    }
   ],
   "source": [
    "get_classification_report(y_cat_train, y_cat_train_pred, y_cat_valid, y_valid_pred)"
   ]
  },
  {
   "cell_type": "markdown",
   "metadata": {},
   "source": [
    "# PREDICTION"
   ]
  },
  {
   "cell_type": "code",
   "execution_count": 95,
   "metadata": {},
   "outputs": [],
   "source": [
    "y_test_pred_probs = model_lgbm.predict_proba(X_cat_test)"
   ]
  },
  {
   "cell_type": "code",
   "execution_count": 96,
   "metadata": {},
   "outputs": [
    {
     "data": {
      "text/plain": [
       "array([0.30829762, 0.61669749, 0.97585672, ..., 0.64979504, 0.22740672,\n",
       "       0.98351119])"
      ]
     },
     "execution_count": 96,
     "metadata": {},
     "output_type": "execute_result"
    }
   ],
   "source": [
    "y_test_pred_probs[:, 1]"
   ]
  },
  {
   "cell_type": "code",
   "execution_count": 97,
   "metadata": {},
   "outputs": [
    {
     "data": {
      "text/plain": [
       "0       0\n",
       "1       1\n",
       "2       1\n",
       "3       0\n",
       "4       0\n",
       "       ..\n",
       "2495    0\n",
       "2496    0\n",
       "2497    1\n",
       "2498    0\n",
       "2499    1\n",
       "Length: 2500, dtype: int32"
      ]
     },
     "execution_count": 97,
     "metadata": {},
     "output_type": "execute_result"
    }
   ],
   "source": [
    "y_test_pred = (y_test_pred_probs[:, 1] >= 0.375).astype('int')\n",
    "pd.Series(y_test_pred)"
   ]
  },
  {
   "cell_type": "code",
   "execution_count": 98,
   "metadata": {},
   "outputs": [
    {
     "data": {
      "text/plain": [
       "0    0.7212\n",
       "1    0.2788\n",
       "dtype: float64"
      ]
     },
     "execution_count": 98,
     "metadata": {},
     "output_type": "execute_result"
    }
   ],
   "source": [
    "pd.Series(y_test_pred).value_counts(normalize=True)"
   ]
  },
  {
   "cell_type": "code",
   "execution_count": 99,
   "metadata": {},
   "outputs": [],
   "source": [
    "pd.Series(y_test_pred).to_csv(OUTPUTH_PATH, index = False, header = False)"
   ]
  },
  {
   "cell_type": "code",
   "execution_count": null,
   "metadata": {},
   "outputs": [],
   "source": []
  }
 ],
 "metadata": {
  "kernelspec": {
   "display_name": "Python 3",
   "language": "python",
   "name": "python3"
  },
  "language_info": {
   "codemirror_mode": {
    "name": "ipython",
    "version": 3
   },
   "file_extension": ".py",
   "mimetype": "text/x-python",
   "name": "python",
   "nbconvert_exporter": "python",
   "pygments_lexer": "ipython3",
   "version": "3.7.9"
  }
 },
 "nbformat": 4,
 "nbformat_minor": 4
}
